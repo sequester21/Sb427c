{
 "cells": [
  {
   "cell_type": "markdown",
   "metadata": {
    "colab_type": "text",
    "id": "cf5CmXQCZyF1"
   },
   "source": [
    "# Guided Capstone Step 4. Pre-Processing and Training Data Development"
   ]
  },
  {
   "cell_type": "markdown",
   "metadata": {
    "colab_type": "text",
    "id": "b2jue2jPGJlt"
   },
   "source": [
    "**The Data Science Method**  \n",
    "\n",
    "\n",
    "1.   Problem Identification \n",
    "\n",
    "\n",
    "2.   Data Wrangling \n",
    "  \n",
    " \n",
    "3.   Exploratory Data Analysis   \n",
    "\n",
    "4.   **Pre-processing and Training Data Development**  \n",
    " * Create dummy or indicator features for categorical variables\n",
    "  * Standardize the magnitude of numeric features\n",
    "  * Split into testing and training datasets\n",
    "  * Apply scaler to the testing set\n",
    "5.   Modeling \n",
    "  * Fit Models with Training Data Set\n",
    "  * Review Model Outcomes — Iterate over additional models as needed.\n",
    "  * Identify the Final Model\n",
    "\n",
    "6.   Documentation\n",
    "  * Review the Results\n",
    "  * Present and share your findings - storytelling\n",
    "  * Finalize Code \n",
    "  * Finalize Documentation"
   ]
  },
  {
   "cell_type": "markdown",
   "metadata": {
    "colab_type": "text",
    "id": "K8xfkAqqZyF2"
   },
   "source": [
    "**<font color='teal'> Start by loading the necessary packages as we did in step 3 and printing out our current working directory just to confirm we are in the correct project directory. </font>**"
   ]
  },
  {
   "cell_type": "code",
   "execution_count": 1,
   "metadata": {
    "colab": {},
    "colab_type": "code",
    "id": "ry6WPL5eZyF3"
   },
   "outputs": [
    {
     "data": {
      "text/plain": [
       "'/Users/LJ/Documents/Springboard/Sb427c/Guided Capstone'"
      ]
     },
     "execution_count": 1,
     "metadata": {},
     "output_type": "execute_result"
    }
   ],
   "source": [
    "import os\n",
    "import pandas as pd\n",
    "import datetime\n",
    "import seaborn as sns\n",
    "import matplotlib.pyplot as plt\n",
    "import numpy as np\n",
    "%matplotlib inline\n",
    "\n",
    "os.getcwd()"
   ]
  },
  {
   "cell_type": "markdown",
   "metadata": {
    "colab_type": "text",
    "id": "630T-ogRZyF8"
   },
   "source": [
    "**<font color='teal'>  Load the csv file you created in step 3, remember it should be saved inside your data subfolder and print the first five rows.</font>**"
   ]
  },
  {
   "cell_type": "code",
   "execution_count": 2,
   "metadata": {
    "colab": {},
    "colab_type": "code",
    "id": "dMNbk0u3ZyF9"
   },
   "outputs": [
    {
     "data": {
      "text/html": [
       "<div>\n",
       "<style scoped>\n",
       "    .dataframe tbody tr th:only-of-type {\n",
       "        vertical-align: middle;\n",
       "    }\n",
       "\n",
       "    .dataframe tbody tr th {\n",
       "        vertical-align: top;\n",
       "    }\n",
       "\n",
       "    .dataframe thead th {\n",
       "        text-align: right;\n",
       "    }\n",
       "</style>\n",
       "<table border=\"1\" class=\"dataframe\">\n",
       "  <thead>\n",
       "    <tr style=\"text-align: right;\">\n",
       "      <th></th>\n",
       "      <th>Name</th>\n",
       "      <th>state</th>\n",
       "      <th>summit_elev</th>\n",
       "      <th>vertical_drop</th>\n",
       "      <th>trams</th>\n",
       "      <th>fastEight</th>\n",
       "      <th>fastSixes</th>\n",
       "      <th>fastQuads</th>\n",
       "      <th>quad</th>\n",
       "      <th>triple</th>\n",
       "      <th>...</th>\n",
       "      <th>SkiableTerrain_ac</th>\n",
       "      <th>Snow Making_ac</th>\n",
       "      <th>daysOpenLastYear</th>\n",
       "      <th>yearsOpen</th>\n",
       "      <th>averageSnowfall</th>\n",
       "      <th>AdultWeekday</th>\n",
       "      <th>AdultWeekend</th>\n",
       "      <th>projectedDaysOpen</th>\n",
       "      <th>NightSkiing_ac</th>\n",
       "      <th>clusters</th>\n",
       "    </tr>\n",
       "  </thead>\n",
       "  <tbody>\n",
       "    <tr>\n",
       "      <th>0</th>\n",
       "      <td>Eaglecrest Ski Area</td>\n",
       "      <td>Alaska</td>\n",
       "      <td>2600</td>\n",
       "      <td>1540</td>\n",
       "      <td>0</td>\n",
       "      <td>0</td>\n",
       "      <td>0</td>\n",
       "      <td>0</td>\n",
       "      <td>0</td>\n",
       "      <td>0</td>\n",
       "      <td>...</td>\n",
       "      <td>640.0</td>\n",
       "      <td>60.0</td>\n",
       "      <td>45.000000</td>\n",
       "      <td>44.0</td>\n",
       "      <td>350.000000</td>\n",
       "      <td>47.000000</td>\n",
       "      <td>53.00000</td>\n",
       "      <td>90.0</td>\n",
       "      <td>0.0</td>\n",
       "      <td>0</td>\n",
       "    </tr>\n",
       "    <tr>\n",
       "      <th>1</th>\n",
       "      <td>Hilltop Ski Area</td>\n",
       "      <td>Alaska</td>\n",
       "      <td>2090</td>\n",
       "      <td>294</td>\n",
       "      <td>0</td>\n",
       "      <td>0</td>\n",
       "      <td>0</td>\n",
       "      <td>0</td>\n",
       "      <td>0</td>\n",
       "      <td>1</td>\n",
       "      <td>...</td>\n",
       "      <td>30.0</td>\n",
       "      <td>30.0</td>\n",
       "      <td>150.000000</td>\n",
       "      <td>36.0</td>\n",
       "      <td>69.000000</td>\n",
       "      <td>30.000000</td>\n",
       "      <td>34.00000</td>\n",
       "      <td>152.0</td>\n",
       "      <td>30.0</td>\n",
       "      <td>0</td>\n",
       "    </tr>\n",
       "    <tr>\n",
       "      <th>2</th>\n",
       "      <td>Sunrise Park Resort</td>\n",
       "      <td>Arizona</td>\n",
       "      <td>11100</td>\n",
       "      <td>1800</td>\n",
       "      <td>0</td>\n",
       "      <td>0</td>\n",
       "      <td>0</td>\n",
       "      <td>1</td>\n",
       "      <td>2</td>\n",
       "      <td>3</td>\n",
       "      <td>...</td>\n",
       "      <td>800.0</td>\n",
       "      <td>80.0</td>\n",
       "      <td>115.000000</td>\n",
       "      <td>49.0</td>\n",
       "      <td>250.000000</td>\n",
       "      <td>74.000000</td>\n",
       "      <td>78.00000</td>\n",
       "      <td>104.0</td>\n",
       "      <td>80.0</td>\n",
       "      <td>2</td>\n",
       "    </tr>\n",
       "    <tr>\n",
       "      <th>3</th>\n",
       "      <td>Yosemite Ski &amp; Snowboard Area</td>\n",
       "      <td>California</td>\n",
       "      <td>7800</td>\n",
       "      <td>600</td>\n",
       "      <td>0</td>\n",
       "      <td>0</td>\n",
       "      <td>0</td>\n",
       "      <td>0</td>\n",
       "      <td>0</td>\n",
       "      <td>1</td>\n",
       "      <td>...</td>\n",
       "      <td>88.0</td>\n",
       "      <td>0.0</td>\n",
       "      <td>110.000000</td>\n",
       "      <td>84.0</td>\n",
       "      <td>300.000000</td>\n",
       "      <td>47.000000</td>\n",
       "      <td>47.00000</td>\n",
       "      <td>107.0</td>\n",
       "      <td>0.0</td>\n",
       "      <td>1</td>\n",
       "    </tr>\n",
       "    <tr>\n",
       "      <th>4</th>\n",
       "      <td>Bear Mountain</td>\n",
       "      <td>California</td>\n",
       "      <td>8805</td>\n",
       "      <td>1665</td>\n",
       "      <td>0</td>\n",
       "      <td>0</td>\n",
       "      <td>0</td>\n",
       "      <td>2</td>\n",
       "      <td>1</td>\n",
       "      <td>2</td>\n",
       "      <td>...</td>\n",
       "      <td>198.0</td>\n",
       "      <td>198.0</td>\n",
       "      <td>122.000000</td>\n",
       "      <td>76.0</td>\n",
       "      <td>100.000000</td>\n",
       "      <td>57.916957</td>\n",
       "      <td>64.16681</td>\n",
       "      <td>130.0</td>\n",
       "      <td>0.0</td>\n",
       "      <td>1</td>\n",
       "    </tr>\n",
       "    <tr>\n",
       "      <th>...</th>\n",
       "      <td>...</td>\n",
       "      <td>...</td>\n",
       "      <td>...</td>\n",
       "      <td>...</td>\n",
       "      <td>...</td>\n",
       "      <td>...</td>\n",
       "      <td>...</td>\n",
       "      <td>...</td>\n",
       "      <td>...</td>\n",
       "      <td>...</td>\n",
       "      <td>...</td>\n",
       "      <td>...</td>\n",
       "      <td>...</td>\n",
       "      <td>...</td>\n",
       "      <td>...</td>\n",
       "      <td>...</td>\n",
       "      <td>...</td>\n",
       "      <td>...</td>\n",
       "      <td>...</td>\n",
       "      <td>...</td>\n",
       "      <td>...</td>\n",
       "    </tr>\n",
       "    <tr>\n",
       "      <th>262</th>\n",
       "      <td>Meadowlark Ski Lodge</td>\n",
       "      <td>Wyoming</td>\n",
       "      <td>9500</td>\n",
       "      <td>1000</td>\n",
       "      <td>0</td>\n",
       "      <td>0</td>\n",
       "      <td>0</td>\n",
       "      <td>0</td>\n",
       "      <td>0</td>\n",
       "      <td>1</td>\n",
       "      <td>...</td>\n",
       "      <td>300.0</td>\n",
       "      <td>0.0</td>\n",
       "      <td>119.333333</td>\n",
       "      <td>9.0</td>\n",
       "      <td>292.714286</td>\n",
       "      <td>57.916957</td>\n",
       "      <td>64.16681</td>\n",
       "      <td>116.0</td>\n",
       "      <td>0.0</td>\n",
       "      <td>2</td>\n",
       "    </tr>\n",
       "    <tr>\n",
       "      <th>263</th>\n",
       "      <td>Sleeping Giant Ski Resort</td>\n",
       "      <td>Wyoming</td>\n",
       "      <td>7428</td>\n",
       "      <td>810</td>\n",
       "      <td>0</td>\n",
       "      <td>0</td>\n",
       "      <td>0</td>\n",
       "      <td>0</td>\n",
       "      <td>0</td>\n",
       "      <td>1</td>\n",
       "      <td>...</td>\n",
       "      <td>184.0</td>\n",
       "      <td>18.0</td>\n",
       "      <td>61.000000</td>\n",
       "      <td>81.0</td>\n",
       "      <td>310.000000</td>\n",
       "      <td>42.000000</td>\n",
       "      <td>42.00000</td>\n",
       "      <td>77.0</td>\n",
       "      <td>0.0</td>\n",
       "      <td>1</td>\n",
       "    </tr>\n",
       "    <tr>\n",
       "      <th>264</th>\n",
       "      <td>Snow King Resort</td>\n",
       "      <td>Wyoming</td>\n",
       "      <td>7808</td>\n",
       "      <td>1571</td>\n",
       "      <td>0</td>\n",
       "      <td>0</td>\n",
       "      <td>0</td>\n",
       "      <td>0</td>\n",
       "      <td>1</td>\n",
       "      <td>1</td>\n",
       "      <td>...</td>\n",
       "      <td>400.0</td>\n",
       "      <td>250.0</td>\n",
       "      <td>121.000000</td>\n",
       "      <td>80.0</td>\n",
       "      <td>300.000000</td>\n",
       "      <td>59.000000</td>\n",
       "      <td>59.00000</td>\n",
       "      <td>123.0</td>\n",
       "      <td>110.0</td>\n",
       "      <td>1</td>\n",
       "    </tr>\n",
       "    <tr>\n",
       "      <th>265</th>\n",
       "      <td>Snowy Range Ski &amp; Recreation Area</td>\n",
       "      <td>Wyoming</td>\n",
       "      <td>9663</td>\n",
       "      <td>990</td>\n",
       "      <td>0</td>\n",
       "      <td>0</td>\n",
       "      <td>0</td>\n",
       "      <td>0</td>\n",
       "      <td>0</td>\n",
       "      <td>1</td>\n",
       "      <td>...</td>\n",
       "      <td>75.0</td>\n",
       "      <td>30.0</td>\n",
       "      <td>131.000000</td>\n",
       "      <td>59.0</td>\n",
       "      <td>250.000000</td>\n",
       "      <td>49.000000</td>\n",
       "      <td>49.00000</td>\n",
       "      <td>116.0</td>\n",
       "      <td>0.0</td>\n",
       "      <td>2</td>\n",
       "    </tr>\n",
       "    <tr>\n",
       "      <th>266</th>\n",
       "      <td>White Pine Ski Area</td>\n",
       "      <td>Wyoming</td>\n",
       "      <td>9500</td>\n",
       "      <td>1100</td>\n",
       "      <td>0</td>\n",
       "      <td>0</td>\n",
       "      <td>0</td>\n",
       "      <td>0</td>\n",
       "      <td>0</td>\n",
       "      <td>2</td>\n",
       "      <td>...</td>\n",
       "      <td>370.0</td>\n",
       "      <td>0.0</td>\n",
       "      <td>119.333333</td>\n",
       "      <td>81.0</td>\n",
       "      <td>150.000000</td>\n",
       "      <td>57.916957</td>\n",
       "      <td>49.00000</td>\n",
       "      <td>116.0</td>\n",
       "      <td>0.0</td>\n",
       "      <td>2</td>\n",
       "    </tr>\n",
       "  </tbody>\n",
       "</table>\n",
       "<p>267 rows × 26 columns</p>\n",
       "</div>"
      ],
      "text/plain": [
       "                                  Name       state  summit_elev  \\\n",
       "0                  Eaglecrest Ski Area      Alaska         2600   \n",
       "1                     Hilltop Ski Area      Alaska         2090   \n",
       "2                  Sunrise Park Resort     Arizona        11100   \n",
       "3        Yosemite Ski & Snowboard Area  California         7800   \n",
       "4                        Bear Mountain  California         8805   \n",
       "..                                 ...         ...          ...   \n",
       "262               Meadowlark Ski Lodge     Wyoming         9500   \n",
       "263          Sleeping Giant Ski Resort     Wyoming         7428   \n",
       "264                   Snow King Resort     Wyoming         7808   \n",
       "265  Snowy Range Ski & Recreation Area     Wyoming         9663   \n",
       "266                White Pine Ski Area     Wyoming         9500   \n",
       "\n",
       "     vertical_drop  trams  fastEight  fastSixes  fastQuads  quad  triple  ...  \\\n",
       "0             1540      0          0          0          0     0       0  ...   \n",
       "1              294      0          0          0          0     0       1  ...   \n",
       "2             1800      0          0          0          1     2       3  ...   \n",
       "3              600      0          0          0          0     0       1  ...   \n",
       "4             1665      0          0          0          2     1       2  ...   \n",
       "..             ...    ...        ...        ...        ...   ...     ...  ...   \n",
       "262           1000      0          0          0          0     0       1  ...   \n",
       "263            810      0          0          0          0     0       1  ...   \n",
       "264           1571      0          0          0          0     1       1  ...   \n",
       "265            990      0          0          0          0     0       1  ...   \n",
       "266           1100      0          0          0          0     0       2  ...   \n",
       "\n",
       "     SkiableTerrain_ac  Snow Making_ac  daysOpenLastYear  yearsOpen  \\\n",
       "0                640.0            60.0         45.000000       44.0   \n",
       "1                 30.0            30.0        150.000000       36.0   \n",
       "2                800.0            80.0        115.000000       49.0   \n",
       "3                 88.0             0.0        110.000000       84.0   \n",
       "4                198.0           198.0        122.000000       76.0   \n",
       "..                 ...             ...               ...        ...   \n",
       "262              300.0             0.0        119.333333        9.0   \n",
       "263              184.0            18.0         61.000000       81.0   \n",
       "264              400.0           250.0        121.000000       80.0   \n",
       "265               75.0            30.0        131.000000       59.0   \n",
       "266              370.0             0.0        119.333333       81.0   \n",
       "\n",
       "     averageSnowfall  AdultWeekday  AdultWeekend  projectedDaysOpen  \\\n",
       "0         350.000000     47.000000      53.00000               90.0   \n",
       "1          69.000000     30.000000      34.00000              152.0   \n",
       "2         250.000000     74.000000      78.00000              104.0   \n",
       "3         300.000000     47.000000      47.00000              107.0   \n",
       "4         100.000000     57.916957      64.16681              130.0   \n",
       "..               ...           ...           ...                ...   \n",
       "262       292.714286     57.916957      64.16681              116.0   \n",
       "263       310.000000     42.000000      42.00000               77.0   \n",
       "264       300.000000     59.000000      59.00000              123.0   \n",
       "265       250.000000     49.000000      49.00000              116.0   \n",
       "266       150.000000     57.916957      49.00000              116.0   \n",
       "\n",
       "     NightSkiing_ac  clusters  \n",
       "0               0.0         0  \n",
       "1              30.0         0  \n",
       "2              80.0         2  \n",
       "3               0.0         1  \n",
       "4               0.0         1  \n",
       "..              ...       ...  \n",
       "262             0.0         2  \n",
       "263             0.0         1  \n",
       "264           110.0         1  \n",
       "265             0.0         2  \n",
       "266             0.0         2  \n",
       "\n",
       "[267 rows x 26 columns]"
      ]
     },
     "execution_count": 2,
     "metadata": {},
     "output_type": "execute_result"
    }
   ],
   "source": [
    "df = pd.read_csv(\"data/step3_output.csv\")\n",
    "df"
   ]
  },
  {
   "cell_type": "markdown",
   "metadata": {
    "colab_type": "text",
    "id": "zkBHf9smZyGB"
   },
   "source": [
    "## Create dummy features for categorical variables"
   ]
  },
  {
   "cell_type": "markdown",
   "metadata": {
    "colab_type": "text",
    "id": "vWKHm0NhAnrJ"
   },
   "source": [
    "**<font color='teal'> Create dummy variables for `state`. Add the dummies back to the dataframe and remove the original column for `state`. </font>**\n",
    "\n",
    "Hint: you can see an example of how to execute this in Aiden's article on preprocessing [here](https://medium.com/@aiden.dataminer/the-data-science-method-dsm-pre-processing-and-training-data-development-fd2d75182967). "
   ]
  },
  {
   "cell_type": "code",
   "execution_count": 3,
   "metadata": {
    "colab": {},
    "colab_type": "code",
    "id": "lZqWk8ltZyGZ"
   },
   "outputs": [
    {
     "name": "stdout",
     "output_type": "stream",
     "text": [
      "<class 'pandas.core.frame.DataFrame'>\n",
      "RangeIndex: 267 entries, 0 to 266\n",
      "Data columns (total 60 columns):\n",
      " #   Column                Non-Null Count  Dtype  \n",
      "---  ------                --------------  -----  \n",
      " 0   Name                  267 non-null    object \n",
      " 1   summit_elev           267 non-null    int64  \n",
      " 2   vertical_drop         267 non-null    int64  \n",
      " 3   trams                 267 non-null    int64  \n",
      " 4   fastEight             267 non-null    int64  \n",
      " 5   fastSixes             267 non-null    int64  \n",
      " 6   fastQuads             267 non-null    int64  \n",
      " 7   quad                  267 non-null    int64  \n",
      " 8   triple                267 non-null    int64  \n",
      " 9   double                267 non-null    int64  \n",
      " 10  surface               267 non-null    int64  \n",
      " 11  total_chairs          267 non-null    int64  \n",
      " 12  Runs                  267 non-null    float64\n",
      " 13  TerrainParks          267 non-null    float64\n",
      " 14  LongestRun_mi         267 non-null    float64\n",
      " 15  SkiableTerrain_ac     267 non-null    float64\n",
      " 16  Snow Making_ac        267 non-null    float64\n",
      " 17  daysOpenLastYear      267 non-null    float64\n",
      " 18  yearsOpen             267 non-null    float64\n",
      " 19  averageSnowfall       267 non-null    float64\n",
      " 20  AdultWeekday          267 non-null    float64\n",
      " 21  AdultWeekend          267 non-null    float64\n",
      " 22  projectedDaysOpen     267 non-null    float64\n",
      " 23  NightSkiing_ac        267 non-null    float64\n",
      " 24  clusters              267 non-null    int64  \n",
      " 25  state_Alaska          267 non-null    uint8  \n",
      " 26  state_Arizona         267 non-null    uint8  \n",
      " 27  state_California      267 non-null    uint8  \n",
      " 28  state_Colorado        267 non-null    uint8  \n",
      " 29  state_Connecticut     267 non-null    uint8  \n",
      " 30  state_Idaho           267 non-null    uint8  \n",
      " 31  state_Illinois        267 non-null    uint8  \n",
      " 32  state_Indiana         267 non-null    uint8  \n",
      " 33  state_Iowa            267 non-null    uint8  \n",
      " 34  state_Maine           267 non-null    uint8  \n",
      " 35  state_Maryland        267 non-null    uint8  \n",
      " 36  state_Massachusetts   267 non-null    uint8  \n",
      " 37  state_Michigan        267 non-null    uint8  \n",
      " 38  state_Minnesota       267 non-null    uint8  \n",
      " 39  state_Missouri        267 non-null    uint8  \n",
      " 40  state_Montana         267 non-null    uint8  \n",
      " 41  state_Nevada          267 non-null    uint8  \n",
      " 42  state_New Hampshire   267 non-null    uint8  \n",
      " 43  state_New Jersey      267 non-null    uint8  \n",
      " 44  state_New Mexico      267 non-null    uint8  \n",
      " 45  state_New York        267 non-null    uint8  \n",
      " 46  state_North Carolina  267 non-null    uint8  \n",
      " 47  state_Ohio            267 non-null    uint8  \n",
      " 48  state_Oregon          267 non-null    uint8  \n",
      " 49  state_Pennsylvania    267 non-null    uint8  \n",
      " 50  state_Rhode Island    267 non-null    uint8  \n",
      " 51  state_South Dakota    267 non-null    uint8  \n",
      " 52  state_Tennessee       267 non-null    uint8  \n",
      " 53  state_Utah            267 non-null    uint8  \n",
      " 54  state_Vermont         267 non-null    uint8  \n",
      " 55  state_Virginia        267 non-null    uint8  \n",
      " 56  state_Washington      267 non-null    uint8  \n",
      " 57  state_West Virginia   267 non-null    uint8  \n",
      " 58  state_Wisconsin       267 non-null    uint8  \n",
      " 59  state_Wyoming         267 non-null    uint8  \n",
      "dtypes: float64(12), int64(12), object(1), uint8(35)\n",
      "memory usage: 61.4+ KB\n"
     ]
    }
   ],
   "source": [
    "dumbf = pd.get_dummies(df, columns=['state'])\n",
    "dumbf.info()"
   ]
  },
  {
   "cell_type": "markdown",
   "metadata": {
    "colab_type": "text",
    "id": "HnDVhE1-ZyGF"
   },
   "source": [
    "## Standardize the magnitude of numeric features"
   ]
  },
  {
   "cell_type": "markdown",
   "metadata": {
    "colab": {},
    "colab_type": "code",
    "id": "gW3D-WlDZyGG"
   },
   "source": [
    "**<font color='teal'> Using sklearn preprocessing standardize the scale of the features of the dataframe except the name of the resort which we done't need in the dataframe for modeling, so it can be droppped here as well. Also, we want to hold out our response variable(s) so we can have their true values available for model performance review. Let's set `AdultWeekend` to the y variable as our response for scaling and modeling. Later we will go back and consider the `AdultWeekday`, `dayOpenLastYear`, and `projectedDaysOpen`. For now leave them in the development dataframe. </font>**"
   ]
  },
  {
   "cell_type": "code",
   "execution_count": 4,
   "metadata": {
    "colab": {},
    "colab_type": "code",
    "id": "IZL-q-KtAYI6"
   },
   "outputs": [],
   "source": [
    "# first we import the preprocessing package from the sklearn library\n",
    "from sklearn import preprocessing\n",
    "\n",
    "# Declare an explanatory variable, called X,and assign it the result of dropping 'Name' and 'AdultWeekend' from the df\n",
    "X = dumbf.drop(['Name','AdultWeekend'], axis=1)\n",
    "\n",
    "# Declare a response variable, called y, and assign it the AdultWeekend column of the df \n",
    "y = dumbf['AdultWeekend']\n",
    "\n",
    "# Here we use the StandardScaler() method of the preprocessing package, and then call the fit() method with parameter X \n",
    "scaler = preprocessing.StandardScaler().fit(X)\n",
    "\n",
    "# Declare a variable called X_scaled, and assign it the result of calling the transform() method with parameter X \n",
    "X_scaled=scaler.transform(X) "
   ]
  },
  {
   "cell_type": "markdown",
   "metadata": {
    "colab_type": "text",
    "id": "GAT8h4_mZyGK"
   },
   "source": [
    "## Split into training and testing datasets"
   ]
  },
  {
   "cell_type": "markdown",
   "metadata": {
    "colab_type": "text",
    "id": "6rdS8EGeAnrW"
   },
   "source": [
    "**<font color='teal'> Using sklearn model selection import train_test_split, and create a 75/25 split with the y = `AdultWeekend`. We will start by using the adult weekend ticket price as our response variable for modeling.</font>**"
   ]
  },
  {
   "cell_type": "code",
   "execution_count": 5,
   "metadata": {
    "colab": {},
    "colab_type": "code",
    "id": "BSkPut0gguds"
   },
   "outputs": [],
   "source": [
    "# Import the train_test_split function from the sklearn.model_selection utility.  \n",
    "from sklearn.model_selection import train_test_split\n",
    "\n",
    "# Get the 1-dimensional flattened array of our response variable y by calling the ravel() function on y\n",
    "y = y.ravel()\n",
    "\n",
    "# Call the train_test_split() function with the first two parameters set to X_scaled and y \n",
    "# Declare four variables, X_train, X_test, y_train and y_test separated by commas \n",
    "X_train, X_test, y_train, y_test = train_test_split(X_scaled, y, test_size=0.25, random_state=1)"
   ]
  },
  {
   "cell_type": "markdown",
   "metadata": {
    "colab_type": "text",
    "id": "UayqbwkWAnra"
   },
   "source": [
    "Here we start the actual modeling work. First let's fit a multiple linear regression model to predict the `AdultWeekend` price."
   ]
  },
  {
   "cell_type": "markdown",
   "metadata": {
    "colab_type": "text",
    "id": "83fkLldXFCNd"
   },
   "source": [
    "# Guided Capstone Step 5. Modeling\n"
   ]
  },
  {
   "cell_type": "markdown",
   "metadata": {
    "colab_type": "text",
    "id": "JbZXsVevfr9M"
   },
   "source": [
    "This is the fifth step in the Data Science Method. In the previous steps you cleaned and prepared the datasets. Now it's time to get into the most exciting part: modeling! In this exercise, you'll build three different models and compare each model's performance. In the end, you'll choose the best model for demonstrating insights to Big Mountain management.\n",
    "\n",
    "\n",
    "\n",
    "### **The Data Science Method**  \n",
    "\n",
    "\n",
    "1.   Problem Identification \n",
    "\n",
    "2.   Data Wrangling \n",
    "  \n",
    "3.   Exploratory Data Analysis \n",
    " \n",
    "4.   Pre-processing and Training Data Development\n",
    "\n",
    "5.   **Modeling**\n",
    "  * Fit Models with Training Data Set\n",
    "  * Review Model Outcomes — Iterate over additional models as needed.\n",
    "  * Identify the Final Model\n",
    "\n",
    "6.   Documentation\n",
    "  * Review the Results\n",
    "  * Present and share your findings - storytelling\n",
    "  * Finalize Code \n",
    "  * Finalize Documentation"
   ]
  },
  {
   "cell_type": "markdown",
   "metadata": {
    "colab_type": "text",
    "id": "D_wfsP_-Anra"
   },
   "source": [
    "## Fit Models with a Training Dataset"
   ]
  },
  {
   "cell_type": "markdown",
   "metadata": {
    "colab_type": "text",
    "id": "CoI8S5SwAnrc"
   },
   "source": [
    "**<font color='teal'> Using sklearn, fit the model on your training dataset.</font>**"
   ]
  },
  {
   "cell_type": "markdown",
   "metadata": {
    "colab_type": "text",
    "id": "P_GFr8sRAnrd"
   },
   "source": [
    "#### Model 1"
   ]
  },
  {
   "cell_type": "code",
   "execution_count": 6,
   "metadata": {
    "colab": {},
    "colab_type": "code",
    "id": "fW6K7uOPAnre"
   },
   "outputs": [],
   "source": [
    "#all first model set\n",
    "from sklearn import linear_model\n",
    "from sklearn.metrics import explained_variance_score,mean_absolute_error\n",
    "lm = linear_model.LinearRegression()\n",
    "model = lm.fit(X_train,y_train)"
   ]
  },
  {
   "cell_type": "markdown",
   "metadata": {
    "colab_type": "text",
    "id": "1fHqz9-WAnrg"
   },
   "source": [
    "**<font color='teal'> Predict on the testing dataset and score the model performance with the y_test set and the y-pred values. The explained variance is a measure of the variation explained by the model. This is also known as the R-squared value. </font>**\n",
    "\n",
    "Hint: you will have to use the `predict()` method here as it's used in this [DSM article](https://medium.com/@aiden.dataminer/the-data-science-method-dsm-modeling-56b4233cad1b) about modeling. "
   ]
  },
  {
   "cell_type": "code",
   "execution_count": 7,
   "metadata": {
    "colab": {},
    "colab_type": "code",
    "id": "nIo01lFEAnrh"
   },
   "outputs": [],
   "source": [
    "# Make a variable called y_pred and assign it the result of calling predict() on our model variable with parameter X_test\n",
    "y_pred = model.predict(X_test)"
   ]
  },
  {
   "cell_type": "markdown",
   "metadata": {
    "colab_type": "text",
    "id": "N4YS0WE2Anrk"
   },
   "source": [
    "## Review Model Outcomes — Iterate over additional models as needed"
   ]
  },
  {
   "cell_type": "code",
   "execution_count": 8,
   "metadata": {
    "colab": {},
    "colab_type": "code",
    "id": "HSh9sGIYAnrk"
   },
   "outputs": [],
   "source": [
    "# You might want to use the explained_variance_score() and mean_absolute_error() metrics.\n",
    "# To do so, you will need to import them from sklearn.metrics. \n",
    "# You can plug y_test and y_pred into the functions to evaluate the model"
   ]
  },
  {
   "cell_type": "code",
   "execution_count": 9,
   "metadata": {
    "colab": {},
    "colab_type": "code",
    "id": "ihzeo8tqAnro"
   },
   "outputs": [
    {
     "data": {
      "text/plain": [
       "-3.617926242376428e+21"
      ]
     },
     "execution_count": 9,
     "metadata": {},
     "output_type": "execute_result"
    }
   ],
   "source": [
    "explained_variance_score(y_test, y_pred)"
   ]
  },
  {
   "cell_type": "code",
   "execution_count": 10,
   "metadata": {},
   "outputs": [
    {
     "data": {
      "text/plain": [
       "102225749489.89836"
      ]
     },
     "execution_count": 10,
     "metadata": {},
     "output_type": "execute_result"
    }
   ],
   "source": [
    "mean_absolute_error(y_test, y_pred)"
   ]
  },
  {
   "cell_type": "markdown",
   "metadata": {
    "colab_type": "text",
    "id": "NWJcOuSdAnrr"
   },
   "source": [
    "**<font color='teal'> Print the intercept value from the linear model. </font>**\n",
    "\n",
    "Hint: our linear regression model `lm` has an attribute `intercept_` for the intercept"
   ]
  },
  {
   "cell_type": "code",
   "execution_count": 11,
   "metadata": {
    "colab": {},
    "colab_type": "code",
    "id": "3WzWejn6Anrt"
   },
   "outputs": [
    {
     "data": {
      "text/plain": [
       "-25652154305.659622"
      ]
     },
     "execution_count": 11,
     "metadata": {},
     "output_type": "execute_result"
    }
   ],
   "source": [
    "lm.intercept_"
   ]
  },
  {
   "cell_type": "markdown",
   "metadata": {
    "colab_type": "text",
    "id": "edajrenAAnrv"
   },
   "source": [
    "**<font color='teal'> The intercept is the mean `AdultWeekend` price for all the resorts given the other characteristics. The addition or subtraction of each of the coefficient values in the regression are numeric adjustments applied to the intercept to provide a particular observation's value for the resulting `AdultWeekend` value. Also, because we took the time to scale our x values in the training data, we can compare each of the coeeficients for the features to determine the feature importances. Print the coefficient values from the linear model and sort in descending order to identify the top ten most important features.</font>** \n",
    "\n",
    "\n",
    "Hint: make sure to review the absolute value of the coefficients, because the adjustment may be positive or negative, but what we are looking for is the magnitude of impact on our response variable."
   ]
  },
  {
   "cell_type": "code",
   "execution_count": 12,
   "metadata": {
    "colab": {},
    "colab_type": "code",
    "id": "FEKc_lmZAnrw"
   },
   "outputs": [
    {
     "data": {
      "text/html": [
       "<div>\n",
       "<style scoped>\n",
       "    .dataframe tbody tr th:only-of-type {\n",
       "        vertical-align: middle;\n",
       "    }\n",
       "\n",
       "    .dataframe tbody tr th {\n",
       "        vertical-align: top;\n",
       "    }\n",
       "\n",
       "    .dataframe thead th {\n",
       "        text-align: right;\n",
       "    }\n",
       "</style>\n",
       "<table border=\"1\" class=\"dataframe\">\n",
       "  <thead>\n",
       "    <tr style=\"text-align: right;\">\n",
       "      <th></th>\n",
       "      <th>Coefficient</th>\n",
       "    </tr>\n",
       "  </thead>\n",
       "  <tbody>\n",
       "    <tr>\n",
       "      <th>trams</th>\n",
       "      <td>1.475491e+13</td>\n",
       "    </tr>\n",
       "    <tr>\n",
       "      <th>fastSixes</th>\n",
       "      <td>9.595218e+12</td>\n",
       "    </tr>\n",
       "    <tr>\n",
       "      <th>total_chairs</th>\n",
       "      <td>3.826790e+12</td>\n",
       "    </tr>\n",
       "    <tr>\n",
       "      <th>state_Michigan</th>\n",
       "      <td>2.064959e+12</td>\n",
       "    </tr>\n",
       "    <tr>\n",
       "      <th>state_New York</th>\n",
       "      <td>2.030575e+12</td>\n",
       "    </tr>\n",
       "    <tr>\n",
       "      <th>double</th>\n",
       "      <td>2.021603e+12</td>\n",
       "    </tr>\n",
       "    <tr>\n",
       "      <th>surface</th>\n",
       "      <td>1.805243e+12</td>\n",
       "    </tr>\n",
       "    <tr>\n",
       "      <th>fastEight</th>\n",
       "      <td>1.755151e+12</td>\n",
       "    </tr>\n",
       "    <tr>\n",
       "      <th>state_Pennsylvania</th>\n",
       "      <td>1.672316e+12</td>\n",
       "    </tr>\n",
       "    <tr>\n",
       "      <th>triple</th>\n",
       "      <td>1.662518e+12</td>\n",
       "    </tr>\n",
       "    <tr>\n",
       "      <th>state_California</th>\n",
       "      <td>1.625626e+12</td>\n",
       "    </tr>\n",
       "    <tr>\n",
       "      <th>state_Wisconsin</th>\n",
       "      <td>1.577138e+12</td>\n",
       "    </tr>\n",
       "    <tr>\n",
       "      <th>state_New Hampshire</th>\n",
       "      <td>1.474051e+12</td>\n",
       "    </tr>\n",
       "    <tr>\n",
       "      <th>state_Minnesota</th>\n",
       "      <td>1.474051e+12</td>\n",
       "    </tr>\n",
       "    <tr>\n",
       "      <th>state_Montana</th>\n",
       "      <td>1.361257e+12</td>\n",
       "    </tr>\n",
       "    <tr>\n",
       "      <th>state_Massachusetts</th>\n",
       "      <td>1.300440e+12</td>\n",
       "    </tr>\n",
       "    <tr>\n",
       "      <th>state_Colorado</th>\n",
       "      <td>1.300440e+12</td>\n",
       "    </tr>\n",
       "    <tr>\n",
       "      <th>state_Vermont</th>\n",
       "      <td>1.236104e+12</td>\n",
       "    </tr>\n",
       "    <tr>\n",
       "      <th>state_Idaho</th>\n",
       "      <td>1.236104e+12</td>\n",
       "    </tr>\n",
       "    <tr>\n",
       "      <th>quad</th>\n",
       "      <td>1.176869e+12</td>\n",
       "    </tr>\n",
       "    <tr>\n",
       "      <th>state_Maine</th>\n",
       "      <td>1.167666e+12</td>\n",
       "    </tr>\n",
       "    <tr>\n",
       "      <th>state_Washington</th>\n",
       "      <td>1.167666e+12</td>\n",
       "    </tr>\n",
       "    <tr>\n",
       "      <th>state_Utah</th>\n",
       "      <td>1.167666e+12</td>\n",
       "    </tr>\n",
       "    <tr>\n",
       "      <th>state_Oregon</th>\n",
       "      <td>1.167666e+12</td>\n",
       "    </tr>\n",
       "    <tr>\n",
       "      <th>fastQuads</th>\n",
       "      <td>1.135629e+12</td>\n",
       "    </tr>\n",
       "    <tr>\n",
       "      <th>state_Wyoming</th>\n",
       "      <td>1.094358e+12</td>\n",
       "    </tr>\n",
       "    <tr>\n",
       "      <th>state_New Mexico</th>\n",
       "      <td>1.094358e+12</td>\n",
       "    </tr>\n",
       "    <tr>\n",
       "      <th>state_North Carolina</th>\n",
       "      <td>9.284521e+11</td>\n",
       "    </tr>\n",
       "    <tr>\n",
       "      <th>state_Connecticut</th>\n",
       "      <td>9.284521e+11</td>\n",
       "    </tr>\n",
       "    <tr>\n",
       "      <th>state_Ohio</th>\n",
       "      <td>9.284521e+11</td>\n",
       "    </tr>\n",
       "    <tr>\n",
       "      <th>state_West Virginia</th>\n",
       "      <td>8.320161e+11</td>\n",
       "    </tr>\n",
       "    <tr>\n",
       "      <th>state_Illinois</th>\n",
       "      <td>8.320161e+11</td>\n",
       "    </tr>\n",
       "    <tr>\n",
       "      <th>state_Virginia</th>\n",
       "      <td>7.219156e+11</td>\n",
       "    </tr>\n",
       "    <tr>\n",
       "      <th>state_Iowa</th>\n",
       "      <td>7.219156e+11</td>\n",
       "    </tr>\n",
       "    <tr>\n",
       "      <th>state_Nevada</th>\n",
       "      <td>7.219156e+11</td>\n",
       "    </tr>\n",
       "    <tr>\n",
       "      <th>state_Alaska</th>\n",
       "      <td>5.905570e+11</td>\n",
       "    </tr>\n",
       "    <tr>\n",
       "      <th>state_Indiana</th>\n",
       "      <td>5.905570e+11</td>\n",
       "    </tr>\n",
       "    <tr>\n",
       "      <th>state_Missouri</th>\n",
       "      <td>5.905570e+11</td>\n",
       "    </tr>\n",
       "    <tr>\n",
       "      <th>state_South Dakota</th>\n",
       "      <td>5.905570e+11</td>\n",
       "    </tr>\n",
       "    <tr>\n",
       "      <th>state_Tennessee</th>\n",
       "      <td>4.183740e+11</td>\n",
       "    </tr>\n",
       "    <tr>\n",
       "      <th>state_Maryland</th>\n",
       "      <td>4.183740e+11</td>\n",
       "    </tr>\n",
       "    <tr>\n",
       "      <th>state_Rhode Island</th>\n",
       "      <td>4.183740e+11</td>\n",
       "    </tr>\n",
       "    <tr>\n",
       "      <th>state_Arizona</th>\n",
       "      <td>4.183740e+11</td>\n",
       "    </tr>\n",
       "    <tr>\n",
       "      <th>state_New Jersey</th>\n",
       "      <td>6.209967e+03</td>\n",
       "    </tr>\n",
       "    <tr>\n",
       "      <th>AdultWeekday</th>\n",
       "      <td>1.243457e+01</td>\n",
       "    </tr>\n",
       "    <tr>\n",
       "      <th>summit_elev</th>\n",
       "      <td>3.420283e+00</td>\n",
       "    </tr>\n",
       "    <tr>\n",
       "      <th>SkiableTerrain_ac</th>\n",
       "      <td>2.177734e+00</td>\n",
       "    </tr>\n",
       "    <tr>\n",
       "      <th>vertical_drop</th>\n",
       "      <td>1.326650e+00</td>\n",
       "    </tr>\n",
       "    <tr>\n",
       "      <th>Runs</th>\n",
       "      <td>7.695312e-01</td>\n",
       "    </tr>\n",
       "    <tr>\n",
       "      <th>averageSnowfall</th>\n",
       "      <td>7.568359e-01</td>\n",
       "    </tr>\n",
       "    <tr>\n",
       "      <th>clusters</th>\n",
       "      <td>6.679688e-01</td>\n",
       "    </tr>\n",
       "    <tr>\n",
       "      <th>Snow Making_ac</th>\n",
       "      <td>6.206055e-01</td>\n",
       "    </tr>\n",
       "    <tr>\n",
       "      <th>NightSkiing_ac</th>\n",
       "      <td>5.878906e-01</td>\n",
       "    </tr>\n",
       "    <tr>\n",
       "      <th>TerrainParks</th>\n",
       "      <td>5.634766e-01</td>\n",
       "    </tr>\n",
       "    <tr>\n",
       "      <th>projectedDaysOpen</th>\n",
       "      <td>4.084473e-01</td>\n",
       "    </tr>\n",
       "    <tr>\n",
       "      <th>daysOpenLastYear</th>\n",
       "      <td>3.581543e-01</td>\n",
       "    </tr>\n",
       "    <tr>\n",
       "      <th>yearsOpen</th>\n",
       "      <td>2.798462e-01</td>\n",
       "    </tr>\n",
       "    <tr>\n",
       "      <th>LongestRun_mi</th>\n",
       "      <td>2.496338e-02</td>\n",
       "    </tr>\n",
       "  </tbody>\n",
       "</table>\n",
       "</div>"
      ],
      "text/plain": [
       "                       Coefficient\n",
       "trams                 1.475491e+13\n",
       "fastSixes             9.595218e+12\n",
       "total_chairs          3.826790e+12\n",
       "state_Michigan        2.064959e+12\n",
       "state_New York        2.030575e+12\n",
       "double                2.021603e+12\n",
       "surface               1.805243e+12\n",
       "fastEight             1.755151e+12\n",
       "state_Pennsylvania    1.672316e+12\n",
       "triple                1.662518e+12\n",
       "state_California      1.625626e+12\n",
       "state_Wisconsin       1.577138e+12\n",
       "state_New Hampshire   1.474051e+12\n",
       "state_Minnesota       1.474051e+12\n",
       "state_Montana         1.361257e+12\n",
       "state_Massachusetts   1.300440e+12\n",
       "state_Colorado        1.300440e+12\n",
       "state_Vermont         1.236104e+12\n",
       "state_Idaho           1.236104e+12\n",
       "quad                  1.176869e+12\n",
       "state_Maine           1.167666e+12\n",
       "state_Washington      1.167666e+12\n",
       "state_Utah            1.167666e+12\n",
       "state_Oregon          1.167666e+12\n",
       "fastQuads             1.135629e+12\n",
       "state_Wyoming         1.094358e+12\n",
       "state_New Mexico      1.094358e+12\n",
       "state_North Carolina  9.284521e+11\n",
       "state_Connecticut     9.284521e+11\n",
       "state_Ohio            9.284521e+11\n",
       "state_West Virginia   8.320161e+11\n",
       "state_Illinois        8.320161e+11\n",
       "state_Virginia        7.219156e+11\n",
       "state_Iowa            7.219156e+11\n",
       "state_Nevada          7.219156e+11\n",
       "state_Alaska          5.905570e+11\n",
       "state_Indiana         5.905570e+11\n",
       "state_Missouri        5.905570e+11\n",
       "state_South Dakota    5.905570e+11\n",
       "state_Tennessee       4.183740e+11\n",
       "state_Maryland        4.183740e+11\n",
       "state_Rhode Island    4.183740e+11\n",
       "state_Arizona         4.183740e+11\n",
       "state_New Jersey      6.209967e+03\n",
       "AdultWeekday          1.243457e+01\n",
       "summit_elev           3.420283e+00\n",
       "SkiableTerrain_ac     2.177734e+00\n",
       "vertical_drop         1.326650e+00\n",
       "Runs                  7.695312e-01\n",
       "averageSnowfall       7.568359e-01\n",
       "clusters              6.679688e-01\n",
       "Snow Making_ac        6.206055e-01\n",
       "NightSkiing_ac        5.878906e-01\n",
       "TerrainParks          5.634766e-01\n",
       "projectedDaysOpen     4.084473e-01\n",
       "daysOpenLastYear      3.581543e-01\n",
       "yearsOpen             2.798462e-01\n",
       "LongestRun_mi         2.496338e-02"
      ]
     },
     "execution_count": 12,
     "metadata": {},
     "output_type": "execute_result"
    }
   ],
   "source": [
    "# You might want to make a pandas DataFrame displaying the coefficients for each state like so: \n",
    "pd.DataFrame(abs(lm.coef_), X.columns, columns=['Coefficient']).sort_values('Coefficient',ascending=False)"
   ]
  },
  {
   "cell_type": "markdown",
   "metadata": {
    "colab_type": "text",
    "id": "BpdALMoAAnry"
   },
   "source": [
    "**<font color='teal'>You should see that the top ten important features are different states. However, the state is not something the managers at the Big Mountain Resort can do anything about. Given that we care more about actionable traits associated with ticket pricing, rebuild the model without the state features and compare the results. </font>**\n",
    "\n",
    "Hint: Try to construct another model using exactly the steps we followed above. "
   ]
  },
  {
   "cell_type": "markdown",
   "metadata": {
    "colab_type": "text",
    "id": "-mHYA1BzAnrz"
   },
   "source": [
    "#### Model 2"
   ]
  },
  {
   "cell_type": "code",
   "execution_count": 13,
   "metadata": {},
   "outputs": [],
   "source": [
    "X = df.drop(['Name','state','AdultWeekend'], axis=1)\n",
    "y = df['AdultWeekend']\n",
    "scaler = preprocessing.StandardScaler().fit(X)\n",
    "X_scaled = scaler.transform(X)"
   ]
  },
  {
   "cell_type": "code",
   "execution_count": 14,
   "metadata": {
    "colab": {},
    "colab_type": "code",
    "id": "nM1EGf16Anr2"
   },
   "outputs": [],
   "source": [
    "# Get the 1-dimensional flattened array of our response variable y by calling the ravel() function on y\n",
    "y = y.ravel()\n",
    "X_train, X_test, y_train, y_test = train_test_split(X_scaled, y, test_size=0.25, random_state=1)"
   ]
  },
  {
   "cell_type": "code",
   "execution_count": 15,
   "metadata": {},
   "outputs": [
    {
     "name": "stdout",
     "output_type": "stream",
     "text": [
      "0.6906343106641641\n",
      "6.349068179018776\n",
      "59.5138665909175\n"
     ]
    }
   ],
   "source": [
    "model = lm.fit(X_train,y_train)\n",
    "y_pred = model.predict(X_test)\n",
    "\n",
    "print(explained_variance_score(y_test, y_pred))\n",
    "print(mean_absolute_error(y_test, y_pred))\n",
    "print(lm.intercept_)"
   ]
  },
  {
   "cell_type": "code",
   "execution_count": 16,
   "metadata": {},
   "outputs": [
    {
     "data": {
      "text/html": [
       "<div>\n",
       "<style scoped>\n",
       "    .dataframe tbody tr th:only-of-type {\n",
       "        vertical-align: middle;\n",
       "    }\n",
       "\n",
       "    .dataframe tbody tr th {\n",
       "        vertical-align: top;\n",
       "    }\n",
       "\n",
       "    .dataframe thead th {\n",
       "        text-align: right;\n",
       "    }\n",
       "</style>\n",
       "<table border=\"1\" class=\"dataframe\">\n",
       "  <thead>\n",
       "    <tr style=\"text-align: right;\">\n",
       "      <th></th>\n",
       "      <th>Coefficient</th>\n",
       "    </tr>\n",
       "  </thead>\n",
       "  <tbody>\n",
       "    <tr>\n",
       "      <th>AdultWeekday</th>\n",
       "      <td>1.318273e+01</td>\n",
       "    </tr>\n",
       "    <tr>\n",
       "      <th>SkiableTerrain_ac</th>\n",
       "      <td>2.778275e+00</td>\n",
       "    </tr>\n",
       "    <tr>\n",
       "      <th>clusters</th>\n",
       "      <td>2.411458e+00</td>\n",
       "    </tr>\n",
       "    <tr>\n",
       "      <th>vertical_drop</th>\n",
       "      <td>2.317079e+00</td>\n",
       "    </tr>\n",
       "    <tr>\n",
       "      <th>daysOpenLastYear</th>\n",
       "      <td>2.152202e+00</td>\n",
       "    </tr>\n",
       "    <tr>\n",
       "      <th>quad</th>\n",
       "      <td>1.942712e+00</td>\n",
       "    </tr>\n",
       "    <tr>\n",
       "      <th>projectedDaysOpen</th>\n",
       "      <td>1.675194e+00</td>\n",
       "    </tr>\n",
       "    <tr>\n",
       "      <th>Runs</th>\n",
       "      <td>1.401763e+00</td>\n",
       "    </tr>\n",
       "    <tr>\n",
       "      <th>surface</th>\n",
       "      <td>1.233046e+00</td>\n",
       "    </tr>\n",
       "    <tr>\n",
       "      <th>triple</th>\n",
       "      <td>1.022160e+00</td>\n",
       "    </tr>\n",
       "    <tr>\n",
       "      <th>total_chairs</th>\n",
       "      <td>6.074186e-01</td>\n",
       "    </tr>\n",
       "    <tr>\n",
       "      <th>summit_elev</th>\n",
       "      <td>4.406857e-01</td>\n",
       "    </tr>\n",
       "    <tr>\n",
       "      <th>NightSkiing_ac</th>\n",
       "      <td>4.311199e-01</td>\n",
       "    </tr>\n",
       "    <tr>\n",
       "      <th>Snow Making_ac</th>\n",
       "      <td>3.338742e-01</td>\n",
       "    </tr>\n",
       "    <tr>\n",
       "      <th>yearsOpen</th>\n",
       "      <td>3.313603e-01</td>\n",
       "    </tr>\n",
       "    <tr>\n",
       "      <th>double</th>\n",
       "      <td>2.016742e-01</td>\n",
       "    </tr>\n",
       "    <tr>\n",
       "      <th>TerrainParks</th>\n",
       "      <td>1.961986e-01</td>\n",
       "    </tr>\n",
       "    <tr>\n",
       "      <th>fastQuads</th>\n",
       "      <td>1.382737e-01</td>\n",
       "    </tr>\n",
       "    <tr>\n",
       "      <th>LongestRun_mi</th>\n",
       "      <td>1.067329e-01</td>\n",
       "    </tr>\n",
       "    <tr>\n",
       "      <th>averageSnowfall</th>\n",
       "      <td>1.969474e-02</td>\n",
       "    </tr>\n",
       "    <tr>\n",
       "      <th>trams</th>\n",
       "      <td>3.552714e-15</td>\n",
       "    </tr>\n",
       "    <tr>\n",
       "      <th>fastSixes</th>\n",
       "      <td>4.440892e-16</td>\n",
       "    </tr>\n",
       "    <tr>\n",
       "      <th>fastEight</th>\n",
       "      <td>2.220446e-16</td>\n",
       "    </tr>\n",
       "  </tbody>\n",
       "</table>\n",
       "</div>"
      ],
      "text/plain": [
       "                    Coefficient\n",
       "AdultWeekday       1.318273e+01\n",
       "SkiableTerrain_ac  2.778275e+00\n",
       "clusters           2.411458e+00\n",
       "vertical_drop      2.317079e+00\n",
       "daysOpenLastYear   2.152202e+00\n",
       "quad               1.942712e+00\n",
       "projectedDaysOpen  1.675194e+00\n",
       "Runs               1.401763e+00\n",
       "surface            1.233046e+00\n",
       "triple             1.022160e+00\n",
       "total_chairs       6.074186e-01\n",
       "summit_elev        4.406857e-01\n",
       "NightSkiing_ac     4.311199e-01\n",
       "Snow Making_ac     3.338742e-01\n",
       "yearsOpen          3.313603e-01\n",
       "double             2.016742e-01\n",
       "TerrainParks       1.961986e-01\n",
       "fastQuads          1.382737e-01\n",
       "LongestRun_mi      1.067329e-01\n",
       "averageSnowfall    1.969474e-02\n",
       "trams              3.552714e-15\n",
       "fastSixes          4.440892e-16\n",
       "fastEight          2.220446e-16"
      ]
     },
     "execution_count": 16,
     "metadata": {},
     "output_type": "execute_result"
    }
   ],
   "source": [
    "# You might want to make a pandas DataFrame displaying the coefficients for each state like so: \n",
    "pd.DataFrame(abs(lm.coef_), X.columns, columns=['Coefficient']).sort_values('Coefficient',ascending=False)\n"
   ]
  },
  {
   "cell_type": "markdown",
   "metadata": {
    "colab_type": "text",
    "id": "JWjQLr3LAnr6"
   },
   "source": [
    "**<font color='teal'> When reviewing our new model coefficients, we see `summit_elev` is now in the number two spot. This is also difficult to change from a management prespective and highly correlated with `base_elev` and `vertical_drop`.  This time, rebuild the model without the state features and without the `summit_elev` and without `base_elev`and compare the results. </font>**"
   ]
  },
  {
   "cell_type": "markdown",
   "metadata": {},
   "source": [
    "<font color='violet'> **Having very different results than what was intended and not particularly sure why.  Possibly due to step 2 and 3 when filling and filtering data.** </font>"
   ]
  },
  {
   "cell_type": "markdown",
   "metadata": {
    "colab_type": "text",
    "id": "RXqvcn93Anr7"
   },
   "source": [
    "#### Model 3"
   ]
  },
  {
   "cell_type": "code",
   "execution_count": 17,
   "metadata": {
    "colab": {},
    "colab_type": "code",
    "id": "6eugnDNNAnr8"
   },
   "outputs": [],
   "source": [
    "X = df.drop(['Name','state','AdultWeekend','summit_elev'], axis=1)\n",
    "y = df['AdultWeekend']\n",
    "scaler = preprocessing.StandardScaler().fit(X)\n",
    "X_scaled = scaler.transform(X)\n",
    "y = y.ravel()\n",
    "X_train, X_test, y_train, y_test = train_test_split(X_scaled, y, test_size=0.25, random_state=1)"
   ]
  },
  {
   "cell_type": "code",
   "execution_count": 18,
   "metadata": {
    "colab": {},
    "colab_type": "code",
    "id": "pq0pW7G9Anr_"
   },
   "outputs": [
    {
     "name": "stdout",
     "output_type": "stream",
     "text": [
      "0.6910992631558811\n",
      "6.334550756600638\n",
      "59.511604813704004\n"
     ]
    }
   ],
   "source": [
    "model = lm.fit(X_train,y_train)\n",
    "y_pred = model.predict(X_test)\n",
    "\n",
    "print(explained_variance_score(y_test, y_pred))\n",
    "print(mean_absolute_error(y_test, y_pred))\n",
    "print(lm.intercept_)"
   ]
  },
  {
   "cell_type": "code",
   "execution_count": 19,
   "metadata": {},
   "outputs": [
    {
     "data": {
      "text/html": [
       "<div>\n",
       "<style scoped>\n",
       "    .dataframe tbody tr th:only-of-type {\n",
       "        vertical-align: middle;\n",
       "    }\n",
       "\n",
       "    .dataframe tbody tr th {\n",
       "        vertical-align: top;\n",
       "    }\n",
       "\n",
       "    .dataframe thead th {\n",
       "        text-align: right;\n",
       "    }\n",
       "</style>\n",
       "<table border=\"1\" class=\"dataframe\">\n",
       "  <thead>\n",
       "    <tr style=\"text-align: right;\">\n",
       "      <th></th>\n",
       "      <th>Coefficient</th>\n",
       "    </tr>\n",
       "  </thead>\n",
       "  <tbody>\n",
       "    <tr>\n",
       "      <th>AdultWeekday</th>\n",
       "      <td>1.318341e+01</td>\n",
       "    </tr>\n",
       "    <tr>\n",
       "      <th>SkiableTerrain_ac</th>\n",
       "      <td>2.819409e+00</td>\n",
       "    </tr>\n",
       "    <tr>\n",
       "      <th>vertical_drop</th>\n",
       "      <td>2.397141e+00</td>\n",
       "    </tr>\n",
       "    <tr>\n",
       "      <th>daysOpenLastYear</th>\n",
       "      <td>2.162791e+00</td>\n",
       "    </tr>\n",
       "    <tr>\n",
       "      <th>clusters</th>\n",
       "      <td>2.056671e+00</td>\n",
       "    </tr>\n",
       "    <tr>\n",
       "      <th>quad</th>\n",
       "      <td>1.941151e+00</td>\n",
       "    </tr>\n",
       "    <tr>\n",
       "      <th>projectedDaysOpen</th>\n",
       "      <td>1.688300e+00</td>\n",
       "    </tr>\n",
       "    <tr>\n",
       "      <th>Runs</th>\n",
       "      <td>1.418209e+00</td>\n",
       "    </tr>\n",
       "    <tr>\n",
       "      <th>surface</th>\n",
       "      <td>1.237643e+00</td>\n",
       "    </tr>\n",
       "    <tr>\n",
       "      <th>triple</th>\n",
       "      <td>1.043112e+00</td>\n",
       "    </tr>\n",
       "    <tr>\n",
       "      <th>total_chairs</th>\n",
       "      <td>6.109521e-01</td>\n",
       "    </tr>\n",
       "    <tr>\n",
       "      <th>NightSkiing_ac</th>\n",
       "      <td>4.234610e-01</td>\n",
       "    </tr>\n",
       "    <tr>\n",
       "      <th>yearsOpen</th>\n",
       "      <td>3.230270e-01</td>\n",
       "    </tr>\n",
       "    <tr>\n",
       "      <th>Snow Making_ac</th>\n",
       "      <td>3.189271e-01</td>\n",
       "    </tr>\n",
       "    <tr>\n",
       "      <th>double</th>\n",
       "      <td>2.043852e-01</td>\n",
       "    </tr>\n",
       "    <tr>\n",
       "      <th>TerrainParks</th>\n",
       "      <td>1.856435e-01</td>\n",
       "    </tr>\n",
       "    <tr>\n",
       "      <th>fastQuads</th>\n",
       "      <td>1.236068e-01</td>\n",
       "    </tr>\n",
       "    <tr>\n",
       "      <th>LongestRun_mi</th>\n",
       "      <td>8.971893e-02</td>\n",
       "    </tr>\n",
       "    <tr>\n",
       "      <th>averageSnowfall</th>\n",
       "      <td>5.367932e-02</td>\n",
       "    </tr>\n",
       "    <tr>\n",
       "      <th>fastEight</th>\n",
       "      <td>8.881784e-16</td>\n",
       "    </tr>\n",
       "    <tr>\n",
       "      <th>fastSixes</th>\n",
       "      <td>5.273559e-16</td>\n",
       "    </tr>\n",
       "    <tr>\n",
       "      <th>trams</th>\n",
       "      <td>0.000000e+00</td>\n",
       "    </tr>\n",
       "  </tbody>\n",
       "</table>\n",
       "</div>"
      ],
      "text/plain": [
       "                    Coefficient\n",
       "AdultWeekday       1.318341e+01\n",
       "SkiableTerrain_ac  2.819409e+00\n",
       "vertical_drop      2.397141e+00\n",
       "daysOpenLastYear   2.162791e+00\n",
       "clusters           2.056671e+00\n",
       "quad               1.941151e+00\n",
       "projectedDaysOpen  1.688300e+00\n",
       "Runs               1.418209e+00\n",
       "surface            1.237643e+00\n",
       "triple             1.043112e+00\n",
       "total_chairs       6.109521e-01\n",
       "NightSkiing_ac     4.234610e-01\n",
       "yearsOpen          3.230270e-01\n",
       "Snow Making_ac     3.189271e-01\n",
       "double             2.043852e-01\n",
       "TerrainParks       1.856435e-01\n",
       "fastQuads          1.236068e-01\n",
       "LongestRun_mi      8.971893e-02\n",
       "averageSnowfall    5.367932e-02\n",
       "fastEight          8.881784e-16\n",
       "fastSixes          5.273559e-16\n",
       "trams              0.000000e+00"
      ]
     },
     "execution_count": 19,
     "metadata": {},
     "output_type": "execute_result"
    }
   ],
   "source": [
    "# You might want to make a pandas DataFrame displaying the coefficients for each state like so: \n",
    "pd.DataFrame(abs(lm.coef_), X.columns, columns=['Coefficient']).sort_values('Coefficient',ascending=False)"
   ]
  },
  {
   "cell_type": "markdown",
   "metadata": {
    "colab_type": "text",
    "id": "MJvQMns6AnsI"
   },
   "source": [
    "## Identify the Final Model"
   ]
  },
  {
   "cell_type": "markdown",
   "metadata": {
    "colab_type": "text",
    "id": "LD7-3iLcAnsK"
   },
   "source": [
    "**<font color='teal'> Review the model performances in the table below and choose the best model for proving insights to Big Mountain management about what features are driving ski resort lift ticket prices. Type your choice in the final markdown cell — you will discuss this selection more in the next step of the guided casptone. </font>**"
   ]
  },
  {
   "cell_type": "markdown",
   "metadata": {
    "colab_type": "text",
    "id": "La5S9fRPAnsK"
   },
   "source": [
    "| Model | Explained Variance| Mean Absolute Error|Features Dropped|\n",
    "| --- | --- | --- | --- |\n",
    "| Model 1. |-3.617926242376428e+21|102225749489.89836|-|\n",
    "| Model 2. |0.6906343106641641|6.349068179018776|'state'|\n",
    "| Model 3. |0.6910992631558811|6.334550756600638|'state','summit_elev','base_elev'|"
   ]
  },
  {
   "cell_type": "markdown",
   "metadata": {},
   "source": [
    "Model Selection: Model 2"
   ]
  },
  {
   "cell_type": "code",
   "execution_count": null,
   "metadata": {},
   "outputs": [],
   "source": []
  }
 ],
 "metadata": {
  "colab": {
   "collapsed_sections": [
    "RtEspslPZyGY",
    "s0DokMkAZyGc",
    "2iuitnKcZyHS",
    "iAWQxougZyHW",
    "ThMTimlBZyHZ",
    "QwZ-LkjXZyHt",
    "srtXEA3N4-Y9",
    "ChVreJupZyIA",
    "zDgSSsq1ZyID",
    "I3GYKWfi5Llg",
    "pmMvrhbI-viE",
    "ZXDPkW3UZyIX",
    "Dnc_vHQLZyId",
    "daJxuJ-dZyIg",
    "mAQ-oHiPZyIn",
    "hnGOsp3mZyIp"
   ],
   "name": "GuidedCapstoneStep5.ipynb",
   "provenance": []
  },
  "kernelspec": {
   "display_name": "Python 3",
   "language": "python",
   "name": "python3"
  },
  "language_info": {
   "codemirror_mode": {
    "name": "ipython",
    "version": 3
   },
   "file_extension": ".py",
   "mimetype": "text/x-python",
   "name": "python",
   "nbconvert_exporter": "python",
   "pygments_lexer": "ipython3",
   "version": "3.7.6"
  },
  "toc": {
   "base_numbering": "0",
   "nav_menu": {},
   "number_sections": true,
   "sideBar": true,
   "skip_h1_title": false,
   "title_cell": "Table of Contents",
   "title_sidebar": "Contents",
   "toc_cell": true,
   "toc_position": {
    "height": "calc(100% - 180px)",
    "left": "10px",
    "top": "150px",
    "width": "288px"
   },
   "toc_section_display": true,
   "toc_window_display": true
  }
 },
 "nbformat": 4,
 "nbformat_minor": 1
}
