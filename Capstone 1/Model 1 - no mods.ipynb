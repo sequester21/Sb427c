{
 "cells": [
  {
   "cell_type": "code",
   "execution_count": 156,
   "metadata": {},
   "outputs": [],
   "source": [
    "import pandas as pd\n",
    "import requests\n",
    "from datetime import datetime\n",
    "import random\n",
    "from random import sample\n",
    "import numpy as np\n",
    "import seaborn as sns\n",
    "import matplotlib.pyplot as plt\n",
    "%matplotlib inline\n",
    "\n",
    "from sklearn.ensemble import RandomForestRegressor # import the random forest model\n",
    "from sklearn import preprocessing # used for label encoding and imputing NaNs\n",
    "\n",
    "#Stats package has API module for Cross-sectional models and methods\n",
    "import statsmodels.api as sm # What does this do? Find out and type here.\n",
    "\n",
    "#Stats package has graphics module for plotting regression lines given an intercept and slope.\n",
    "from statsmodels.graphics.api import abline_plot # What does this do? Find out and type here.\n",
    "\n",
    "#Sklearn package metrics that has functions like MSE and R2 to measure performance (or \"goodness\"/fit) of classification/regression\n",
    "from sklearn.metrics import mean_squared_error, r2_score # What does this do? Find out and type here.\n",
    "\n",
    "#Sklearn package that splits data into random train and test subsets\n",
    "from sklearn.model_selection import train_test_split #  What does this do? Find out and type here.\n",
    "\n",
    "\n",
    "import warnings # For handling error messages.\n",
    "# Don't worry about the following two instructions: they just suppress warnings that could occur later. \n",
    "warnings.simplefilter(action=\"ignore\", category=FutureWarning)\n",
    "warnings.filterwarnings(action=\"ignore\", module=\"scipy\", message=\"^internal gelsd\")"
   ]
  },
  {
   "cell_type": "code",
   "execution_count": 157,
   "metadata": {},
   "outputs": [
    {
     "name": "stderr",
     "output_type": "stream",
     "text": [
      "/Users/LJ/opt/anaconda3/lib/python3.7/site-packages/IPython/core/interactiveshell.py:3063: DtypeWarning: Columns (9,18,32) have mixed types.Specify dtype option on import or set low_memory=False.\n",
      "  interactivity=interactivity, compiler=compiler, result=result)\n"
     ]
    },
    {
     "data": {
      "text/html": [
       "<div>\n",
       "<style scoped>\n",
       "    .dataframe tbody tr th:only-of-type {\n",
       "        vertical-align: middle;\n",
       "    }\n",
       "\n",
       "    .dataframe tbody tr th {\n",
       "        vertical-align: top;\n",
       "    }\n",
       "\n",
       "    .dataframe thead th {\n",
       "        text-align: right;\n",
       "    }\n",
       "</style>\n",
       "<table border=\"1\" class=\"dataframe\">\n",
       "  <thead>\n",
       "    <tr style=\"text-align: right;\">\n",
       "      <th></th>\n",
       "      <th>Unique Key</th>\n",
       "      <th>Created Date</th>\n",
       "      <th>Closed Date</th>\n",
       "      <th>Agency</th>\n",
       "      <th>Agency Name</th>\n",
       "      <th>Complaint Type</th>\n",
       "      <th>Descriptor</th>\n",
       "      <th>Location Type</th>\n",
       "      <th>Incident Zip</th>\n",
       "      <th>Incident Address</th>\n",
       "      <th>...</th>\n",
       "      <th>Taxi Company Borough</th>\n",
       "      <th>Taxi Pick Up Location</th>\n",
       "      <th>Bridge Highway Name</th>\n",
       "      <th>Bridge Highway Direction</th>\n",
       "      <th>Road Ramp</th>\n",
       "      <th>Bridge Highway Segment</th>\n",
       "      <th>Latitude</th>\n",
       "      <th>Longitude</th>\n",
       "      <th>Location</th>\n",
       "      <th>date convert</th>\n",
       "    </tr>\n",
       "  </thead>\n",
       "  <tbody>\n",
       "    <tr>\n",
       "      <th>0</th>\n",
       "      <td>41922719</td>\n",
       "      <td>2019-03-10 09:04:50</td>\n",
       "      <td>2019-03-10 10:56:08</td>\n",
       "      <td>NYPD</td>\n",
       "      <td>New York City Police Department</td>\n",
       "      <td>Derelict Vehicle</td>\n",
       "      <td>With License Plate</td>\n",
       "      <td>Street/Sidewalk</td>\n",
       "      <td>10465</td>\n",
       "      <td>3262 COUNTRY CLUB ROAD</td>\n",
       "      <td>...</td>\n",
       "      <td>NaN</td>\n",
       "      <td>NaN</td>\n",
       "      <td>NaN</td>\n",
       "      <td>NaN</td>\n",
       "      <td>NaN</td>\n",
       "      <td>NaN</td>\n",
       "      <td>40.840824</td>\n",
       "      <td>-73.820398</td>\n",
       "      <td>(40.84082357187632, -73.82039786067833)</td>\n",
       "      <td>2019-03-10 09:04:50</td>\n",
       "    </tr>\n",
       "    <tr>\n",
       "      <th>1</th>\n",
       "      <td>41923874</td>\n",
       "      <td>2019-03-10 11:40:24</td>\n",
       "      <td>2019-03-10 11:58:03</td>\n",
       "      <td>NYPD</td>\n",
       "      <td>New York City Police Department</td>\n",
       "      <td>Illegal Parking</td>\n",
       "      <td>Posted Parking Sign Violation</td>\n",
       "      <td>Street/Sidewalk</td>\n",
       "      <td>11375</td>\n",
       "      <td>102-12 65 AVENUE</td>\n",
       "      <td>...</td>\n",
       "      <td>NaN</td>\n",
       "      <td>NaN</td>\n",
       "      <td>NaN</td>\n",
       "      <td>NaN</td>\n",
       "      <td>NaN</td>\n",
       "      <td>NaN</td>\n",
       "      <td>40.730501</td>\n",
       "      <td>-73.852609</td>\n",
       "      <td>(40.730500628686194, -73.852608933943)</td>\n",
       "      <td>2019-03-10 11:40:24</td>\n",
       "    </tr>\n",
       "    <tr>\n",
       "      <th>2</th>\n",
       "      <td>41924382</td>\n",
       "      <td>2019-03-10 09:41:32</td>\n",
       "      <td>2019-03-10 13:31:54</td>\n",
       "      <td>NYPD</td>\n",
       "      <td>New York City Police Department</td>\n",
       "      <td>Noise - Residential</td>\n",
       "      <td>Banging/Pounding</td>\n",
       "      <td>Residential Building/House</td>\n",
       "      <td>10029</td>\n",
       "      <td>210 EAST 102 STREET</td>\n",
       "      <td>...</td>\n",
       "      <td>NaN</td>\n",
       "      <td>NaN</td>\n",
       "      <td>NaN</td>\n",
       "      <td>NaN</td>\n",
       "      <td>NaN</td>\n",
       "      <td>NaN</td>\n",
       "      <td>40.788826</td>\n",
       "      <td>-73.946174</td>\n",
       "      <td>(40.7888258501448, -73.94617411312863)</td>\n",
       "      <td>2019-03-10 09:41:32</td>\n",
       "    </tr>\n",
       "    <tr>\n",
       "      <th>3</th>\n",
       "      <td>41924441</td>\n",
       "      <td>2019-03-10 11:21:15</td>\n",
       "      <td>2019-03-11 11:33:58</td>\n",
       "      <td>DCA</td>\n",
       "      <td>Department of Consumer Affairs</td>\n",
       "      <td>Consumer Complaint</td>\n",
       "      <td>Contract Dispute</td>\n",
       "      <td>NaN</td>\n",
       "      <td>11226</td>\n",
       "      <td>1469 NOSTRAND AVENUE</td>\n",
       "      <td>...</td>\n",
       "      <td>NaN</td>\n",
       "      <td>NaN</td>\n",
       "      <td>NaN</td>\n",
       "      <td>NaN</td>\n",
       "      <td>NaN</td>\n",
       "      <td>NaN</td>\n",
       "      <td>40.650365</td>\n",
       "      <td>-73.949515</td>\n",
       "      <td>(40.65036524649105, -73.9495147975753)</td>\n",
       "      <td>2019-03-10 11:21:15</td>\n",
       "    </tr>\n",
       "    <tr>\n",
       "      <th>4</th>\n",
       "      <td>41925545</td>\n",
       "      <td>2019-03-12 00:32:22</td>\n",
       "      <td>2019-03-12 02:03:41</td>\n",
       "      <td>NYPD</td>\n",
       "      <td>New York City Police Department</td>\n",
       "      <td>Illegal Parking</td>\n",
       "      <td>Commercial Overnight Parking</td>\n",
       "      <td>Street/Sidewalk</td>\n",
       "      <td>11369</td>\n",
       "      <td>31-02 91 STREET</td>\n",
       "      <td>...</td>\n",
       "      <td>NaN</td>\n",
       "      <td>NaN</td>\n",
       "      <td>NaN</td>\n",
       "      <td>NaN</td>\n",
       "      <td>NaN</td>\n",
       "      <td>NaN</td>\n",
       "      <td>40.759858</td>\n",
       "      <td>-73.877631</td>\n",
       "      <td>(40.759857615752665, -73.87763136792162)</td>\n",
       "      <td>2019-03-12 00:32:22</td>\n",
       "    </tr>\n",
       "  </tbody>\n",
       "</table>\n",
       "<p>5 rows × 42 columns</p>\n",
       "</div>"
      ],
      "text/plain": [
       "   Unique Key        Created Date         Closed Date Agency  \\\n",
       "0    41922719 2019-03-10 09:04:50 2019-03-10 10:56:08   NYPD   \n",
       "1    41923874 2019-03-10 11:40:24 2019-03-10 11:58:03   NYPD   \n",
       "2    41924382 2019-03-10 09:41:32 2019-03-10 13:31:54   NYPD   \n",
       "3    41924441 2019-03-10 11:21:15 2019-03-11 11:33:58    DCA   \n",
       "4    41925545 2019-03-12 00:32:22 2019-03-12 02:03:41   NYPD   \n",
       "\n",
       "                       Agency Name       Complaint Type  \\\n",
       "0  New York City Police Department     Derelict Vehicle   \n",
       "1  New York City Police Department      Illegal Parking   \n",
       "2  New York City Police Department  Noise - Residential   \n",
       "3   Department of Consumer Affairs   Consumer Complaint   \n",
       "4  New York City Police Department      Illegal Parking   \n",
       "\n",
       "                      Descriptor               Location Type Incident Zip  \\\n",
       "0             With License Plate             Street/Sidewalk        10465   \n",
       "1  Posted Parking Sign Violation             Street/Sidewalk        11375   \n",
       "2               Banging/Pounding  Residential Building/House        10029   \n",
       "3               Contract Dispute                         NaN        11226   \n",
       "4   Commercial Overnight Parking             Street/Sidewalk        11369   \n",
       "\n",
       "         Incident Address  ... Taxi Company Borough Taxi Pick Up Location  \\\n",
       "0  3262 COUNTRY CLUB ROAD  ...                  NaN                   NaN   \n",
       "1        102-12 65 AVENUE  ...                  NaN                   NaN   \n",
       "2     210 EAST 102 STREET  ...                  NaN                   NaN   \n",
       "3    1469 NOSTRAND AVENUE  ...                  NaN                   NaN   \n",
       "4         31-02 91 STREET  ...                  NaN                   NaN   \n",
       "\n",
       "  Bridge Highway Name Bridge Highway Direction Road Ramp  \\\n",
       "0                 NaN                      NaN       NaN   \n",
       "1                 NaN                      NaN       NaN   \n",
       "2                 NaN                      NaN       NaN   \n",
       "3                 NaN                      NaN       NaN   \n",
       "4                 NaN                      NaN       NaN   \n",
       "\n",
       "  Bridge Highway Segment   Latitude  Longitude  \\\n",
       "0                    NaN  40.840824 -73.820398   \n",
       "1                    NaN  40.730501 -73.852609   \n",
       "2                    NaN  40.788826 -73.946174   \n",
       "3                    NaN  40.650365 -73.949515   \n",
       "4                    NaN  40.759858 -73.877631   \n",
       "\n",
       "                                   Location        date convert  \n",
       "0   (40.84082357187632, -73.82039786067833) 2019-03-10 09:04:50  \n",
       "1    (40.730500628686194, -73.852608933943) 2019-03-10 11:40:24  \n",
       "2    (40.7888258501448, -73.94617411312863) 2019-03-10 09:41:32  \n",
       "3    (40.65036524649105, -73.9495147975753) 2019-03-10 11:21:15  \n",
       "4  (40.759857615752665, -73.87763136792162) 2019-03-12 00:32:22  \n",
       "\n",
       "[5 rows x 42 columns]"
      ]
     },
     "execution_count": 157,
     "metadata": {},
     "output_type": "execute_result"
    }
   ],
   "source": [
    "df = pd.read_csv('311 sample.csv', parse_dates=['Created Date','Closed Date','Resolution Action Updated Date','date convert'], index_col=0, drop)\n",
    "df.head()"
   ]
  },
  {
   "cell_type": "code",
   "execution_count": 158,
   "metadata": {},
   "outputs": [
    {
     "name": "stdout",
     "output_type": "stream",
     "text": [
      "<class 'pandas.core.frame.DataFrame'>\n",
      "Int64Index: 100000 entries, 0 to 99999\n",
      "Data columns (total 42 columns):\n",
      " #   Column                          Non-Null Count   Dtype         \n",
      "---  ------                          --------------   -----         \n",
      " 0   Unique Key                      100000 non-null  int64         \n",
      " 1   Created Date                    100000 non-null  datetime64[ns]\n",
      " 2   Closed Date                     97300 non-null   datetime64[ns]\n",
      " 3   Agency                          100000 non-null  object        \n",
      " 4   Agency Name                     100000 non-null  object        \n",
      " 5   Complaint Type                  100000 non-null  object        \n",
      " 6   Descriptor                      98713 non-null   object        \n",
      " 7   Location Type                   75137 non-null   object        \n",
      " 8   Incident Zip                    94288 non-null   object        \n",
      " 9   Incident Address                81528 non-null   object        \n",
      " 10  Street Name                     81522 non-null   object        \n",
      " 11  Cross Street 1                  67085 non-null   object        \n",
      " 12  Cross Street 2                  66783 non-null   object        \n",
      " 13  Intersection Street 1           19932 non-null   object        \n",
      " 14  Intersection Street 2           19906 non-null   object        \n",
      " 15  Address Type                    91207 non-null   object        \n",
      " 16  City                            93907 non-null   object        \n",
      " 17  Landmark                        4933 non-null    object        \n",
      " 18  Facility Type                   24181 non-null   object        \n",
      " 19  Status                          100000 non-null  object        \n",
      " 20  Due Date                        37757 non-null   object        \n",
      " 21  Resolution Description          97728 non-null   object        \n",
      " 22  Resolution Action Updated Date  98679 non-null   datetime64[ns]\n",
      " 23  Community Board                 100000 non-null  object        \n",
      " 24  BBL                             75016 non-null   float64       \n",
      " 25  Borough                         100000 non-null  object        \n",
      " 26  X Coordinate (State Plane)      91112 non-null   float64       \n",
      " 27  Y Coordinate (State Plane)      91112 non-null   float64       \n",
      " 28  Open Data Channel Type          100000 non-null  object        \n",
      " 29  Park Facility Name              99992 non-null   object        \n",
      " 30  Park Borough                    100000 non-null  object        \n",
      " 31  Vehicle Type                    36 non-null      object        \n",
      " 32  Taxi Company Borough            91 non-null      object        \n",
      " 33  Taxi Pick Up Location           831 non-null     object        \n",
      " 34  Bridge Highway Name             217 non-null     object        \n",
      " 35  Bridge Highway Direction        228 non-null     object        \n",
      " 36  Road Ramp                       226 non-null     object        \n",
      " 37  Bridge Highway Segment          242 non-null     object        \n",
      " 38  Latitude                        91112 non-null   float64       \n",
      " 39  Longitude                       91112 non-null   float64       \n",
      " 40  Location                        91112 non-null   object        \n",
      " 41  date convert                    100000 non-null  datetime64[ns]\n",
      "dtypes: datetime64[ns](4), float64(5), int64(1), object(32)\n",
      "memory usage: 32.8+ MB\n"
     ]
    }
   ],
   "source": [
    "df.info()"
   ]
  },
  {
   "cell_type": "code",
   "execution_count": 159,
   "metadata": {},
   "outputs": [],
   "source": [
    "df.insert(3,\"Resolution Time\", df['Closed Date']-df['Created Date'])"
   ]
  },
  {
   "cell_type": "code",
   "execution_count": 160,
   "metadata": {},
   "outputs": [
    {
     "name": "stdout",
     "output_type": "stream",
     "text": [
      "<class 'pandas.core.frame.DataFrame'>\n",
      "Int64Index: 100000 entries, 0 to 99999\n",
      "Data columns (total 43 columns):\n",
      " #   Column                          Non-Null Count   Dtype          \n",
      "---  ------                          --------------   -----          \n",
      " 0   Unique Key                      100000 non-null  int64          \n",
      " 1   Created Date                    100000 non-null  datetime64[ns] \n",
      " 2   Closed Date                     97300 non-null   datetime64[ns] \n",
      " 3   Resolution Time                 97300 non-null   timedelta64[ns]\n",
      " 4   Agency                          100000 non-null  object         \n",
      " 5   Agency Name                     100000 non-null  object         \n",
      " 6   Complaint Type                  100000 non-null  object         \n",
      " 7   Descriptor                      98713 non-null   object         \n",
      " 8   Location Type                   75137 non-null   object         \n",
      " 9   Incident Zip                    94288 non-null   object         \n",
      " 10  Incident Address                81528 non-null   object         \n",
      " 11  Street Name                     81522 non-null   object         \n",
      " 12  Cross Street 1                  67085 non-null   object         \n",
      " 13  Cross Street 2                  66783 non-null   object         \n",
      " 14  Intersection Street 1           19932 non-null   object         \n",
      " 15  Intersection Street 2           19906 non-null   object         \n",
      " 16  Address Type                    91207 non-null   object         \n",
      " 17  City                            93907 non-null   object         \n",
      " 18  Landmark                        4933 non-null    object         \n",
      " 19  Facility Type                   24181 non-null   object         \n",
      " 20  Status                          100000 non-null  object         \n",
      " 21  Due Date                        37757 non-null   object         \n",
      " 22  Resolution Description          97728 non-null   object         \n",
      " 23  Resolution Action Updated Date  98679 non-null   datetime64[ns] \n",
      " 24  Community Board                 100000 non-null  object         \n",
      " 25  BBL                             75016 non-null   float64        \n",
      " 26  Borough                         100000 non-null  object         \n",
      " 27  X Coordinate (State Plane)      91112 non-null   float64        \n",
      " 28  Y Coordinate (State Plane)      91112 non-null   float64        \n",
      " 29  Open Data Channel Type          100000 non-null  object         \n",
      " 30  Park Facility Name              99992 non-null   object         \n",
      " 31  Park Borough                    100000 non-null  object         \n",
      " 32  Vehicle Type                    36 non-null      object         \n",
      " 33  Taxi Company Borough            91 non-null      object         \n",
      " 34  Taxi Pick Up Location           831 non-null     object         \n",
      " 35  Bridge Highway Name             217 non-null     object         \n",
      " 36  Bridge Highway Direction        228 non-null     object         \n",
      " 37  Road Ramp                       226 non-null     object         \n",
      " 38  Bridge Highway Segment          242 non-null     object         \n",
      " 39  Latitude                        91112 non-null   float64        \n",
      " 40  Longitude                       91112 non-null   float64        \n",
      " 41  Location                        91112 non-null   object         \n",
      " 42  date convert                    100000 non-null  datetime64[ns] \n",
      "dtypes: datetime64[ns](4), float64(5), int64(1), object(32), timedelta64[ns](1)\n",
      "memory usage: 33.6+ MB\n"
     ]
    }
   ],
   "source": [
    "df.info()"
   ]
  },
  {
   "cell_type": "code",
   "execution_count": 161,
   "metadata": {},
   "outputs": [
    {
     "data": {
      "text/html": [
       "<div>\n",
       "<style scoped>\n",
       "    .dataframe tbody tr th:only-of-type {\n",
       "        vertical-align: middle;\n",
       "    }\n",
       "\n",
       "    .dataframe tbody tr th {\n",
       "        vertical-align: top;\n",
       "    }\n",
       "\n",
       "    .dataframe thead th {\n",
       "        text-align: right;\n",
       "    }\n",
       "</style>\n",
       "<table border=\"1\" class=\"dataframe\">\n",
       "  <thead>\n",
       "    <tr style=\"text-align: right;\">\n",
       "      <th></th>\n",
       "      <th>Created Date</th>\n",
       "      <th>Created_tonum</th>\n",
       "    </tr>\n",
       "  </thead>\n",
       "  <tbody>\n",
       "    <tr>\n",
       "      <th>0</th>\n",
       "      <td>2019-03-10 09:04:50</td>\n",
       "      <td>3355.0</td>\n",
       "    </tr>\n",
       "    <tr>\n",
       "      <th>1</th>\n",
       "      <td>2019-03-10 11:40:24</td>\n",
       "      <td>3355.0</td>\n",
       "    </tr>\n",
       "    <tr>\n",
       "      <th>2</th>\n",
       "      <td>2019-03-10 09:41:32</td>\n",
       "      <td>3355.0</td>\n",
       "    </tr>\n",
       "    <tr>\n",
       "      <th>3</th>\n",
       "      <td>2019-03-10 11:21:15</td>\n",
       "      <td>3355.0</td>\n",
       "    </tr>\n",
       "    <tr>\n",
       "      <th>4</th>\n",
       "      <td>2019-03-12 00:32:22</td>\n",
       "      <td>3357.0</td>\n",
       "    </tr>\n",
       "  </tbody>\n",
       "</table>\n",
       "</div>"
      ],
      "text/plain": [
       "         Created Date  Created_tonum\n",
       "0 2019-03-10 09:04:50         3355.0\n",
       "1 2019-03-10 11:40:24         3355.0\n",
       "2 2019-03-10 09:41:32         3355.0\n",
       "3 2019-03-10 11:21:15         3355.0\n",
       "4 2019-03-12 00:32:22         3357.0"
      ]
     },
     "execution_count": 161,
     "metadata": {},
     "output_type": "execute_result"
    }
   ],
   "source": [
    "#Convert dates into a days since min date of column\n",
    "min_created = min(df['Created Date'])\n",
    "df['Created_tonum'] = (df['Created Date'] - min_created).dt.days.astype(float)\n",
    "df[['Created Date', 'Created_tonum']].head()\n",
    "#df.drop('Created Date', axis = 1, inplace = True)"
   ]
  },
  {
   "cell_type": "code",
   "execution_count": 162,
   "metadata": {},
   "outputs": [
    {
     "data": {
      "text/html": [
       "<div>\n",
       "<style scoped>\n",
       "    .dataframe tbody tr th:only-of-type {\n",
       "        vertical-align: middle;\n",
       "    }\n",
       "\n",
       "    .dataframe tbody tr th {\n",
       "        vertical-align: top;\n",
       "    }\n",
       "\n",
       "    .dataframe thead th {\n",
       "        text-align: right;\n",
       "    }\n",
       "</style>\n",
       "<table border=\"1\" class=\"dataframe\">\n",
       "  <thead>\n",
       "    <tr style=\"text-align: right;\">\n",
       "      <th></th>\n",
       "      <th>Closed Date</th>\n",
       "      <th>Closed_tonum</th>\n",
       "    </tr>\n",
       "  </thead>\n",
       "  <tbody>\n",
       "    <tr>\n",
       "      <th>0</th>\n",
       "      <td>2019-03-10 10:56:08</td>\n",
       "      <td>43532.0</td>\n",
       "    </tr>\n",
       "    <tr>\n",
       "      <th>1</th>\n",
       "      <td>2019-03-10 11:58:03</td>\n",
       "      <td>43532.0</td>\n",
       "    </tr>\n",
       "    <tr>\n",
       "      <th>2</th>\n",
       "      <td>2019-03-10 13:31:54</td>\n",
       "      <td>43532.0</td>\n",
       "    </tr>\n",
       "    <tr>\n",
       "      <th>3</th>\n",
       "      <td>2019-03-11 11:33:58</td>\n",
       "      <td>43533.0</td>\n",
       "    </tr>\n",
       "    <tr>\n",
       "      <th>4</th>\n",
       "      <td>2019-03-12 02:03:41</td>\n",
       "      <td>43534.0</td>\n",
       "    </tr>\n",
       "  </tbody>\n",
       "</table>\n",
       "</div>"
      ],
      "text/plain": [
       "          Closed Date  Closed_tonum\n",
       "0 2019-03-10 10:56:08       43532.0\n",
       "1 2019-03-10 11:58:03       43532.0\n",
       "2 2019-03-10 13:31:54       43532.0\n",
       "3 2019-03-11 11:33:58       43533.0\n",
       "4 2019-03-12 02:03:41       43534.0"
      ]
     },
     "execution_count": 162,
     "metadata": {},
     "output_type": "execute_result"
    }
   ],
   "source": [
    "min_closed = min(df['Closed Date'])\n",
    "df['Closed_tonum'] = (df['Closed Date'] - min_closed).dt.days.astype(float)\n",
    "df[['Closed Date', 'Closed_tonum']].head()"
   ]
  },
  {
   "cell_type": "code",
   "execution_count": 190,
   "metadata": {},
   "outputs": [
    {
     "data": {
      "text/html": [
       "<div>\n",
       "<style scoped>\n",
       "    .dataframe tbody tr th:only-of-type {\n",
       "        vertical-align: middle;\n",
       "    }\n",
       "\n",
       "    .dataframe tbody tr th {\n",
       "        vertical-align: top;\n",
       "    }\n",
       "\n",
       "    .dataframe thead th {\n",
       "        text-align: right;\n",
       "    }\n",
       "</style>\n",
       "<table border=\"1\" class=\"dataframe\">\n",
       "  <thead>\n",
       "    <tr style=\"text-align: right;\">\n",
       "      <th></th>\n",
       "      <th>Resolution Action Updated Date</th>\n",
       "      <th>Resupdt_tonum</th>\n",
       "    </tr>\n",
       "  </thead>\n",
       "  <tbody>\n",
       "    <tr>\n",
       "      <th>0</th>\n",
       "      <td>2019-03-10 10:56:08</td>\n",
       "      <td>3371.0</td>\n",
       "    </tr>\n",
       "    <tr>\n",
       "      <th>1</th>\n",
       "      <td>2019-03-10 11:58:03</td>\n",
       "      <td>3372.0</td>\n",
       "    </tr>\n",
       "    <tr>\n",
       "      <th>2</th>\n",
       "      <td>2019-03-10 13:31:54</td>\n",
       "      <td>3372.0</td>\n",
       "    </tr>\n",
       "    <tr>\n",
       "      <th>3</th>\n",
       "      <td>2019-03-11 11:33:58</td>\n",
       "      <td>3373.0</td>\n",
       "    </tr>\n",
       "    <tr>\n",
       "      <th>4</th>\n",
       "      <td>2019-03-12 02:03:41</td>\n",
       "      <td>3373.0</td>\n",
       "    </tr>\n",
       "  </tbody>\n",
       "</table>\n",
       "</div>"
      ],
      "text/plain": [
       "  Resolution Action Updated Date  Resupdt_tonum\n",
       "0            2019-03-10 10:56:08         3371.0\n",
       "1            2019-03-10 11:58:03         3372.0\n",
       "2            2019-03-10 13:31:54         3372.0\n",
       "3            2019-03-11 11:33:58         3373.0\n",
       "4            2019-03-12 02:03:41         3373.0"
      ]
     },
     "execution_count": 190,
     "metadata": {},
     "output_type": "execute_result"
    }
   ],
   "source": [
    "min_resupdt = min(df['Resolution Action Updated Date'])\n",
    "df['Resupdt_tonum'] = (df['Resolution Action Updated Date'] - min_resupdt).dt.days.astype(float)\n",
    "df[['Resolution Action Updated Date', 'Resupdt_tonum']].head()"
   ]
  },
  {
   "cell_type": "code",
   "execution_count": 164,
   "metadata": {},
   "outputs": [
    {
     "name": "stdout",
     "output_type": "stream",
     "text": [
      "<class 'pandas.core.frame.DataFrame'>\n",
      "Int64Index: 100000 entries, 0 to 99999\n",
      "Data columns (total 46 columns):\n",
      " #   Column                          Non-Null Count   Dtype          \n",
      "---  ------                          --------------   -----          \n",
      " 0   Unique Key                      100000 non-null  int64          \n",
      " 1   Created Date                    100000 non-null  datetime64[ns] \n",
      " 2   Closed Date                     97300 non-null   datetime64[ns] \n",
      " 3   Resolution Time                 97300 non-null   timedelta64[ns]\n",
      " 4   Agency                          100000 non-null  object         \n",
      " 5   Agency Name                     100000 non-null  object         \n",
      " 6   Complaint Type                  100000 non-null  object         \n",
      " 7   Descriptor                      98713 non-null   object         \n",
      " 8   Location Type                   75137 non-null   object         \n",
      " 9   Incident Zip                    94288 non-null   object         \n",
      " 10  Incident Address                81528 non-null   object         \n",
      " 11  Street Name                     81522 non-null   object         \n",
      " 12  Cross Street 1                  67085 non-null   object         \n",
      " 13  Cross Street 2                  66783 non-null   object         \n",
      " 14  Intersection Street 1           19932 non-null   object         \n",
      " 15  Intersection Street 2           19906 non-null   object         \n",
      " 16  Address Type                    91207 non-null   object         \n",
      " 17  City                            93907 non-null   object         \n",
      " 18  Landmark                        4933 non-null    object         \n",
      " 19  Facility Type                   24181 non-null   object         \n",
      " 20  Status                          100000 non-null  object         \n",
      " 21  Due Date                        37757 non-null   object         \n",
      " 22  Resolution Description          97728 non-null   object         \n",
      " 23  Resolution Action Updated Date  98679 non-null   datetime64[ns] \n",
      " 24  Community Board                 100000 non-null  object         \n",
      " 25  BBL                             75016 non-null   float64        \n",
      " 26  Borough                         100000 non-null  object         \n",
      " 27  X Coordinate (State Plane)      91112 non-null   float64        \n",
      " 28  Y Coordinate (State Plane)      91112 non-null   float64        \n",
      " 29  Open Data Channel Type          100000 non-null  object         \n",
      " 30  Park Facility Name              99992 non-null   object         \n",
      " 31  Park Borough                    100000 non-null  object         \n",
      " 32  Vehicle Type                    36 non-null      object         \n",
      " 33  Taxi Company Borough            91 non-null      object         \n",
      " 34  Taxi Pick Up Location           831 non-null     object         \n",
      " 35  Bridge Highway Name             217 non-null     object         \n",
      " 36  Bridge Highway Direction        228 non-null     object         \n",
      " 37  Road Ramp                       226 non-null     object         \n",
      " 38  Bridge Highway Segment          242 non-null     object         \n",
      " 39  Latitude                        91112 non-null   float64        \n",
      " 40  Longitude                       91112 non-null   float64        \n",
      " 41  Location                        91112 non-null   object         \n",
      " 42  date convert                    100000 non-null  datetime64[ns] \n",
      " 43  Created_tonum                   100000 non-null  float64        \n",
      " 44  Closed_tonum                    97300 non-null   float64        \n",
      " 45  Resupdt_tonum                   98679 non-null   float64        \n",
      "dtypes: datetime64[ns](4), float64(8), int64(1), object(32), timedelta64[ns](1)\n",
      "memory usage: 35.9+ MB\n"
     ]
    }
   ],
   "source": [
    "df.info()  #unique key is not continuous so should not be included in the regression"
   ]
  },
  {
   "cell_type": "code",
   "execution_count": 192,
   "metadata": {},
   "outputs": [
    {
     "data": {
      "text/plain": [
       "(Timestamp('2019-03-10 09:04:50'), Timestamp('2019-03-10 10:56:08'))"
      ]
     },
     "execution_count": 192,
     "metadata": {},
     "output_type": "execute_result"
    }
   ],
   "source": [
    "test_created = df['Created Date'].iloc[0]\n",
    "test_closed = df['Closed Date'].iloc[0]\n",
    "test_created, test_closed"
   ]
  },
  {
   "cell_type": "code",
   "execution_count": 196,
   "metadata": {},
   "outputs": [
    {
     "data": {
      "text/plain": [
       "Timedelta('0 days 01:51:18')"
      ]
     },
     "execution_count": 196,
     "metadata": {},
     "output_type": "execute_result"
    }
   ],
   "source": [
    "test_delta = test_closed-test_created\n",
    "test_delta"
   ]
  },
  {
   "cell_type": "code",
   "execution_count": 198,
   "metadata": {},
   "outputs": [
    {
     "data": {
      "text/plain": [
       "6678.0"
      ]
     },
     "execution_count": 198,
     "metadata": {},
     "output_type": "execute_result"
    }
   ],
   "source": [
    "test_delta.total_seconds()"
   ]
  },
  {
   "cell_type": "code",
   "execution_count": 165,
   "metadata": {},
   "outputs": [
    {
     "data": {
      "text/plain": [
       "<matplotlib.axes._subplots.AxesSubplot at 0x1a69962bd0>"
      ]
     },
     "execution_count": 165,
     "metadata": {},
     "output_type": "execute_result"
    },
    {
     "data": {
      "image/png": "[encoded data removed]",
      "text/plain": [
       "<Figure size 432x288 with 2 Axes>"
      ]
     },
     "metadata": {
      "needs_background": "light"
     },
     "output_type": "display_data"
    }
   ],
   "source": [
    "sns.heatmap(df.corr())"
   ]
  },
  {
   "cell_type": "code",
   "execution_count": 174,
   "metadata": {},
   "outputs": [
    {
     "data": {
      "text/html": [
       "<div>\n",
       "<style scoped>\n",
       "    .dataframe tbody tr th:only-of-type {\n",
       "        vertical-align: middle;\n",
       "    }\n",
       "\n",
       "    .dataframe tbody tr th {\n",
       "        vertical-align: top;\n",
       "    }\n",
       "\n",
       "    .dataframe thead th {\n",
       "        text-align: right;\n",
       "    }\n",
       "</style>\n",
       "<table border=\"1\" class=\"dataframe\">\n",
       "  <thead>\n",
       "    <tr style=\"text-align: right;\">\n",
       "      <th></th>\n",
       "      <th>Unique Key</th>\n",
       "      <th>BBL</th>\n",
       "      <th>X Coordinate (State Plane)</th>\n",
       "      <th>Y Coordinate (State Plane)</th>\n",
       "      <th>Latitude</th>\n",
       "      <th>Longitude</th>\n",
       "      <th>Created_tonum</th>\n",
       "      <th>Closed_tonum</th>\n",
       "      <th>Resupdt_tonum</th>\n",
       "    </tr>\n",
       "  </thead>\n",
       "  <tbody>\n",
       "    <tr>\n",
       "      <th>Unique Key</th>\n",
       "      <td>1.000000</td>\n",
       "      <td>0.013981</td>\n",
       "      <td>-0.003113</td>\n",
       "      <td>-0.000031</td>\n",
       "      <td>-0.000027</td>\n",
       "      <td>-0.003115</td>\n",
       "      <td>0.983655</td>\n",
       "      <td>0.876149</td>\n",
       "      <td>0.982024</td>\n",
       "    </tr>\n",
       "    <tr>\n",
       "      <th>BBL</th>\n",
       "      <td>0.013981</td>\n",
       "      <td>1.000000</td>\n",
       "      <td>0.101136</td>\n",
       "      <td>-0.610407</td>\n",
       "      <td>-0.610772</td>\n",
       "      <td>0.100809</td>\n",
       "      <td>0.013472</td>\n",
       "      <td>0.015661</td>\n",
       "      <td>0.016743</td>\n",
       "    </tr>\n",
       "    <tr>\n",
       "      <th>X Coordinate (State Plane)</th>\n",
       "      <td>-0.003113</td>\n",
       "      <td>0.101136</td>\n",
       "      <td>1.000000</td>\n",
       "      <td>0.366964</td>\n",
       "      <td>0.366473</td>\n",
       "      <td>0.999999</td>\n",
       "      <td>-0.003144</td>\n",
       "      <td>-0.000328</td>\n",
       "      <td>-0.004804</td>\n",
       "    </tr>\n",
       "    <tr>\n",
       "      <th>Y Coordinate (State Plane)</th>\n",
       "      <td>-0.000031</td>\n",
       "      <td>-0.610407</td>\n",
       "      <td>0.366964</td>\n",
       "      <td>1.000000</td>\n",
       "      <td>1.000000</td>\n",
       "      <td>0.368005</td>\n",
       "      <td>0.000641</td>\n",
       "      <td>0.001809</td>\n",
       "      <td>-0.001597</td>\n",
       "    </tr>\n",
       "    <tr>\n",
       "      <th>Latitude</th>\n",
       "      <td>-0.000027</td>\n",
       "      <td>-0.610772</td>\n",
       "      <td>0.366473</td>\n",
       "      <td>1.000000</td>\n",
       "      <td>1.000000</td>\n",
       "      <td>0.367513</td>\n",
       "      <td>0.000645</td>\n",
       "      <td>0.001809</td>\n",
       "      <td>-0.001594</td>\n",
       "    </tr>\n",
       "    <tr>\n",
       "      <th>Longitude</th>\n",
       "      <td>-0.003115</td>\n",
       "      <td>0.100809</td>\n",
       "      <td>0.999999</td>\n",
       "      <td>0.368005</td>\n",
       "      <td>0.367513</td>\n",
       "      <td>1.000000</td>\n",
       "      <td>-0.003144</td>\n",
       "      <td>-0.000323</td>\n",
       "      <td>-0.004802</td>\n",
       "    </tr>\n",
       "    <tr>\n",
       "      <th>Created_tonum</th>\n",
       "      <td>0.983655</td>\n",
       "      <td>0.013472</td>\n",
       "      <td>-0.003144</td>\n",
       "      <td>0.000641</td>\n",
       "      <td>0.000645</td>\n",
       "      <td>-0.003144</td>\n",
       "      <td>1.000000</td>\n",
       "      <td>0.890589</td>\n",
       "      <td>0.997678</td>\n",
       "    </tr>\n",
       "    <tr>\n",
       "      <th>Closed_tonum</th>\n",
       "      <td>0.876149</td>\n",
       "      <td>0.015661</td>\n",
       "      <td>-0.000328</td>\n",
       "      <td>0.001809</td>\n",
       "      <td>0.001809</td>\n",
       "      <td>-0.000323</td>\n",
       "      <td>0.890589</td>\n",
       "      <td>1.000000</td>\n",
       "      <td>0.897302</td>\n",
       "    </tr>\n",
       "    <tr>\n",
       "      <th>Resupdt_tonum</th>\n",
       "      <td>0.982024</td>\n",
       "      <td>0.016743</td>\n",
       "      <td>-0.004804</td>\n",
       "      <td>-0.001597</td>\n",
       "      <td>-0.001594</td>\n",
       "      <td>-0.004802</td>\n",
       "      <td>0.997678</td>\n",
       "      <td>0.897302</td>\n",
       "      <td>1.000000</td>\n",
       "    </tr>\n",
       "  </tbody>\n",
       "</table>\n",
       "</div>"
      ],
      "text/plain": [
       "                            Unique Key       BBL  X Coordinate (State Plane)  \\\n",
       "Unique Key                    1.000000  0.013981                   -0.003113   \n",
       "BBL                           0.013981  1.000000                    0.101136   \n",
       "X Coordinate (State Plane)   -0.003113  0.101136                    1.000000   \n",
       "Y Coordinate (State Plane)   -0.000031 -0.610407                    0.366964   \n",
       "Latitude                     -0.000027 -0.610772                    0.366473   \n",
       "Longitude                    -0.003115  0.100809                    0.999999   \n",
       "Created_tonum                 0.983655  0.013472                   -0.003144   \n",
       "Closed_tonum                  0.876149  0.015661                   -0.000328   \n",
       "Resupdt_tonum                 0.982024  0.016743                   -0.004804   \n",
       "\n",
       "                            Y Coordinate (State Plane)  Latitude  Longitude  \\\n",
       "Unique Key                                   -0.000031 -0.000027  -0.003115   \n",
       "BBL                                          -0.610407 -0.610772   0.100809   \n",
       "X Coordinate (State Plane)                    0.366964  0.366473   0.999999   \n",
       "Y Coordinate (State Plane)                    1.000000  1.000000   0.368005   \n",
       "Latitude                                      1.000000  1.000000   0.367513   \n",
       "Longitude                                     0.368005  0.367513   1.000000   \n",
       "Created_tonum                                 0.000641  0.000645  -0.003144   \n",
       "Closed_tonum                                  0.001809  0.001809  -0.000323   \n",
       "Resupdt_tonum                                -0.001597 -0.001594  -0.004802   \n",
       "\n",
       "                            Created_tonum  Closed_tonum  Resupdt_tonum  \n",
       "Unique Key                       0.983655      0.876149       0.982024  \n",
       "BBL                              0.013472      0.015661       0.016743  \n",
       "X Coordinate (State Plane)      -0.003144     -0.000328      -0.004804  \n",
       "Y Coordinate (State Plane)       0.000641      0.001809      -0.001597  \n",
       "Latitude                         0.000645      0.001809      -0.001594  \n",
       "Longitude                       -0.003144     -0.000323      -0.004802  \n",
       "Created_tonum                    1.000000      0.890589       0.997678  \n",
       "Closed_tonum                     0.890589      1.000000       0.897302  \n",
       "Resupdt_tonum                    0.997678      0.897302       1.000000  "
      ]
     },
     "execution_count": 174,
     "metadata": {},
     "output_type": "execute_result"
    }
   ],
   "source": [
    "df.corr() #All correlations make sense.  we don't need to include the coordinate AND long/lat because they are the same thing"
   ]
  },
  {
   "cell_type": "code",
   "execution_count": 184,
   "metadata": {},
   "outputs": [
    {
     "name": "stdout",
     "output_type": "stream",
     "text": [
      "<class 'pandas.core.frame.DataFrame'>\n",
      "Int64Index: 72518 entries, 0 to 99999\n",
      "Data columns (total 6 columns):\n",
      " #   Column         Non-Null Count  Dtype  \n",
      "---  ------         --------------  -----  \n",
      " 0   BBL            72518 non-null  float64\n",
      " 1   Latitude       72518 non-null  float64\n",
      " 2   Longitude      72518 non-null  float64\n",
      " 3   Created_tonum  72518 non-null  float64\n",
      " 4   Closed_tonum   72518 non-null  float64\n",
      " 5   Resupdt_tonum  72518 non-null  float64\n",
      "dtypes: float64(6)\n",
      "memory usage: 3.9 MB\n"
     ]
    }
   ],
   "source": [
    "modeldf = df[['BBL','Latitude','Longitude','Created_tonum','Closed_tonum','Resupdt_tonum']].dropna()\n",
    "modeldf.info()"
   ]
  },
  {
   "cell_type": "code",
   "execution_count": 203,
   "metadata": {},
   "outputs": [],
   "source": [
    "# Subsetting our data into our dependent and independent variables.\n",
    "X = modeldf[['BBL','Latitude','Longitude','Created_tonum']]\n",
    "y = modeldf['Resupdt_tonum']\n",
    "\n",
    "# Split the data. This line uses the sklearn function train_test_split().\n",
    "# The test_size parameter means we can train with 75% of the data, and test on 25%. \n",
    "X_train, X_test, y_train, y_test = train_test_split(X, y, test_size=0.25, random_state=21)"
   ]
  },
  {
   "cell_type": "code",
   "execution_count": 200,
   "metadata": {},
   "outputs": [
    {
     "name": "stdout",
     "output_type": "stream",
     "text": [
      "<class 'pandas.core.frame.DataFrame'>\n",
      "Int64Index: 72518 entries, 0 to 99999\n",
      "Data columns (total 4 columns):\n",
      " #   Column         Non-Null Count  Dtype  \n",
      "---  ------         --------------  -----  \n",
      " 0   BBL            72518 non-null  float64\n",
      " 1   Latitude       72518 non-null  float64\n",
      " 2   Longitude      72518 non-null  float64\n",
      " 3   Created_tonum  72518 non-null  float64\n",
      "dtypes: float64(4)\n",
      "memory usage: 2.8 MB\n"
     ]
    }
   ],
   "source": [
    "X.info()"
   ]
  },
  {
   "cell_type": "code",
   "execution_count": 201,
   "metadata": {},
   "outputs": [
    {
     "name": "stdout",
     "output_type": "stream",
     "text": [
      "(54388, 4) (18130, 4) (54388, 1) (18130, 1)\n"
     ]
    }
   ],
   "source": [
    "print(X_train.shape, X_test.shape, y_train.shape, y_test.shape)"
   ]
  },
  {
   "cell_type": "code",
   "execution_count": 204,
   "metadata": {},
   "outputs": [
    {
     "data": {
      "text/plain": [
       "0.995278419585656"
      ]
     },
     "execution_count": 204,
     "metadata": {},
     "output_type": "execute_result"
    }
   ],
   "source": [
    "model1 = RandomForestRegressor()\n",
    "results = model1.fit(X_train, y_train)\n",
    "results.score(X_test,y_test)"
   ]
  },
  {
   "cell_type": "code",
   "execution_count": null,
   "metadata": {},
   "outputs": [],
   "source": [
    "def rmse(test,pred):\n",
    "    return np.sqrt(mean_squared_error(test,pred))"
   ]
  },
  {
   "cell_type": "code",
   "execution_count": 140,
   "metadata": {},
   "outputs": [
    {
     "name": "stdout",
     "output_type": "stream",
     "text": [
      "<class 'pandas.core.frame.DataFrame'>\n",
      "Int64Index: 100000 entries, 0 to 99999\n",
      "Data columns (total 5 columns):\n",
      " #   Column         Non-Null Count   Dtype  \n",
      "---  ------         --------------   -----  \n",
      " 0   BBL            75016 non-null   float64\n",
      " 1   Latitude       91112 non-null   float64\n",
      " 2   Longitude      91112 non-null   float64\n",
      " 3   Created_tonum  100000 non-null  float64\n",
      " 4   Closed_tonum   97300 non-null   float64\n",
      "dtypes: float64(5)\n",
      "memory usage: 4.6 MB\n"
     ]
    }
   ],
   "source": [
    "X.info()"
   ]
  },
  {
   "cell_type": "code",
   "execution_count": null,
   "metadata": {},
   "outputs": [],
   "source": []
  }
 ],
 "metadata": {
  "kernelspec": {
   "display_name": "Python 3",
   "language": "python",
   "name": "python3"
  },
  "language_info": {
   "codemirror_mode": {
    "name": "ipython",
    "version": 3
   },
   "file_extension": ".py",
   "mimetype": "text/x-python",
   "name": "python",
   "nbconvert_exporter": "python",
   "pygments_lexer": "ipython3",
   "version": "3.7.6"
  }
 },
 "nbformat": 4,
 "nbformat_minor": 4
}
