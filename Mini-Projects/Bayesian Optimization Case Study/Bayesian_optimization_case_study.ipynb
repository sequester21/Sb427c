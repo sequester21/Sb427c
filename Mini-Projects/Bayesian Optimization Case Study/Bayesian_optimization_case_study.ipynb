{
  "nbformat": 4,
  "nbformat_minor": 0,
  "metadata": {
    "colab": {
      "name": "Bayesian_optimization_case_study.ipynb",
      "provenance": []
    },
    "deepnote_execution_queue": [],
    "kernelspec": {
      "display_name": "Python 3",
      "language": "python",
      "name": "python3"
    },
    "language_info": {
      "codemirror_mode": {
        "name": "ipython",
        "version": 3
      },
      "file_extension": ".py",
      "mimetype": "text/x-python",
      "name": "python",
      "nbconvert_exporter": "python",
      "pygments_lexer": "ipython3",
      "version": "3.7.3"
    },
    "varInspector": {
      "cols": {
        "lenName": 16,
        "lenType": 16,
        "lenVar": 40
      },
      "kernels_config": {
        "python": {
          "delete_cmd_postfix": "",
          "delete_cmd_prefix": "del ",
          "library": "var_list.py",
          "varRefreshCmd": "print(var_dic_list())"
        },
        "r": {
          "delete_cmd_postfix": ") ",
          "delete_cmd_prefix": "rm(",
          "library": "var_list.r",
          "varRefreshCmd": "cat(var_dic_list()) "
        }
      },
      "types_to_exclude": [
        "module",
        "function",
        "builtin_function_or_method",
        "instance",
        "_Feature"
      ],
      "window_display": false
    }
  },
  "cells": [
    {
      "cell_type": "markdown",
      "metadata": {
        "id": "WNK7vbHo-KYU"
      },
      "source": [
        "## Bayesian methods of hyperparameter optimization"
      ]
    },
    {
      "cell_type": "markdown",
      "metadata": {
        "id": "BlFdvPwF-KYW"
      },
      "source": [
        "In addition to the random search and the grid search methods for selecting optimal hyperparameters, we can use Bayesian methods of probabilities to select the optimal hyperparameters for an algorithm.\n",
        "\n",
        "In this case study, we will be using the BayesianOptimization library to perform hyperparmater tuning. This library has very good documentation which you can find here: https://github.com/fmfn/BayesianOptimization\n",
        "\n",
        "You will need to install the Bayesian optimization module. Running a cell with an exclamation point in the beginning of the command will run it as a shell command — please do this to install this module from our notebook in the cell below."
      ]
    },
    {
      "cell_type": "code",
      "metadata": {
        "id": "Pssx080d-Ulf",
        "outputId": "6982a411-0b7e-4798-ac7b-70bee6f96154",
        "colab": {
          "base_uri": "https://localhost:8080/",
          "height": 258
        }
      },
      "source": [
        "! pip install bayesian-optimization"
      ],
      "execution_count": 5,
      "outputs": [
        {
          "output_type": "stream",
          "text": [
            "Collecting bayesian-optimization\n",
            "  Downloading https://files.pythonhosted.org/packages/bb/7a/fd8059a3881d3ab37ac8f72f56b73937a14e8bb14a9733e68cc8b17dbe3c/bayesian-optimization-1.2.0.tar.gz\n",
            "Requirement already satisfied: numpy>=1.9.0 in /usr/local/lib/python3.6/dist-packages (from bayesian-optimization) (1.18.5)\n",
            "Requirement already satisfied: scipy>=0.14.0 in /usr/local/lib/python3.6/dist-packages (from bayesian-optimization) (1.4.1)\n",
            "Requirement already satisfied: scikit-learn>=0.18.0 in /usr/local/lib/python3.6/dist-packages (from bayesian-optimization) (0.22.2.post1)\n",
            "Requirement already satisfied: joblib>=0.11 in /usr/local/lib/python3.6/dist-packages (from scikit-learn>=0.18.0->bayesian-optimization) (0.16.0)\n",
            "Building wheels for collected packages: bayesian-optimization\n",
            "  Building wheel for bayesian-optimization (setup.py) ... \u001b[?25l\u001b[?25hdone\n",
            "  Created wheel for bayesian-optimization: filename=bayesian_optimization-1.2.0-cp36-none-any.whl size=11685 sha256=612482b8b9702aab96e6e9ef850816b84cd95d1b573333ede51125ae17c0a29c\n",
            "  Stored in directory: /root/.cache/pip/wheels/5a/56/ae/e0e3c1fc1954dc3ec712e2df547235ed072b448094d8f94aec\n",
            "Successfully built bayesian-optimization\n",
            "Installing collected packages: bayesian-optimization\n",
            "Successfully installed bayesian-optimization-1.2.0\n"
          ],
          "name": "stdout"
        }
      ]
    },
    {
      "cell_type": "code",
      "metadata": {
        "id": "QCT----ZQTwC",
        "outputId": "a03f8718-5199-4ff0-f92c-759a98a23ac1",
        "colab": {
          "base_uri": "https://localhost:8080/",
          "height": 343
        }
      },
      "source": [
        "pip install catboost"
      ],
      "execution_count": 7,
      "outputs": [
        {
          "output_type": "stream",
          "text": [
            "Collecting catboost\n",
            "\u001b[?25l  Downloading https://files.pythonhosted.org/packages/52/39/128fff65072c8327371e3c594f3c826d29c85b21cb6485980353b168e0e4/catboost-0.24.2-cp36-none-manylinux1_x86_64.whl (66.1MB)\n",
            "\u001b[K     |████████████████████████████████| 66.2MB 56kB/s \n",
            "\u001b[?25hRequirement already satisfied: pandas>=0.24.0 in /usr/local/lib/python3.6/dist-packages (from catboost) (1.1.2)\n",
            "Requirement already satisfied: scipy in /usr/local/lib/python3.6/dist-packages (from catboost) (1.4.1)\n",
            "Requirement already satisfied: six in /usr/local/lib/python3.6/dist-packages (from catboost) (1.15.0)\n",
            "Requirement already satisfied: matplotlib in /usr/local/lib/python3.6/dist-packages (from catboost) (3.2.2)\n",
            "Requirement already satisfied: graphviz in /usr/local/lib/python3.6/dist-packages (from catboost) (0.10.1)\n",
            "Requirement already satisfied: numpy>=1.16.0 in /usr/local/lib/python3.6/dist-packages (from catboost) (1.18.5)\n",
            "Requirement already satisfied: plotly in /usr/local/lib/python3.6/dist-packages (from catboost) (4.4.1)\n",
            "Requirement already satisfied: pytz>=2017.2 in /usr/local/lib/python3.6/dist-packages (from pandas>=0.24.0->catboost) (2018.9)\n",
            "Requirement already satisfied: python-dateutil>=2.7.3 in /usr/local/lib/python3.6/dist-packages (from pandas>=0.24.0->catboost) (2.8.1)\n",
            "Requirement already satisfied: cycler>=0.10 in /usr/local/lib/python3.6/dist-packages (from matplotlib->catboost) (0.10.0)\n",
            "Requirement already satisfied: pyparsing!=2.0.4,!=2.1.2,!=2.1.6,>=2.0.1 in /usr/local/lib/python3.6/dist-packages (from matplotlib->catboost) (2.4.7)\n",
            "Requirement already satisfied: kiwisolver>=1.0.1 in /usr/local/lib/python3.6/dist-packages (from matplotlib->catboost) (1.2.0)\n",
            "Requirement already satisfied: retrying>=1.3.3 in /usr/local/lib/python3.6/dist-packages (from plotly->catboost) (1.3.3)\n",
            "Installing collected packages: catboost\n",
            "Successfully installed catboost-0.24.2\n"
          ],
          "name": "stdout"
        }
      ]
    },
    {
      "cell_type": "code",
      "metadata": {
        "ExecuteTime": {
          "end_time": "2019-04-22T16:39:09.312682Z",
          "start_time": "2019-04-22T16:39:09.309208Z"
        },
        "_kg_hide-input": true,
        "id": "l9nfFTyj-KYY"
      },
      "source": [
        "import warnings\n",
        "warnings.filterwarnings('ignore')\n",
        "from sklearn.preprocessing import LabelEncoder\n",
        "import numpy as np\n",
        "import pandas as pd\n",
        "import lightgbm\n",
        "from bayes_opt import BayesianOptimization\n",
        "from catboost import CatBoostClassifier, cv, Pool"
      ],
      "execution_count": 10,
      "outputs": []
    },
    {
      "cell_type": "code",
      "metadata": {
        "id": "D16Dquw1AAK0",
        "outputId": "a1af38e4-a940-4589-bf7f-cde07b56a8e7",
        "colab": {
          "base_uri": "https://localhost:8080/",
          "height": 34
        }
      },
      "source": [
        "import os\n",
        "os.listdir()"
      ],
      "execution_count": 11,
      "outputs": [
        {
          "output_type": "execute_result",
          "data": {
            "text/plain": [
              "['.config', 'sample_data']"
            ]
          },
          "metadata": {
            "tags": []
          },
          "execution_count": 11
        }
      ]
    },
    {
      "cell_type": "markdown",
      "metadata": {
        "ExecuteTime": {
          "end_time": "2019-04-22T14:48:15.929012Z",
          "start_time": "2019-04-22T14:48:15.926574Z"
        },
        "id": "AkBt3yds-KYu"
      },
      "source": [
        "## How does Bayesian optimization work?"
      ]
    },
    {
      "cell_type": "markdown",
      "metadata": {
        "id": "E1kyBCUs-KYv"
      },
      "source": [
        "Bayesian optimization works by constructing a posterior distribution of functions (Gaussian process) that best describes the function you want to optimize. As the number of observations grows, the posterior distribution improves, and the algorithm becomes more certain of which regions in parameter space are worth exploring and which are not, as seen in the picture below."
      ]
    },
    {
      "cell_type": "markdown",
      "metadata": {
        "id": "gAdHF72R-KYw"
      },
      "source": [
        "<img src=\"https://github.com/fmfn/BayesianOptimization/blob/master/examples/bo_example.png?raw=true\" />\n",
        "As you iterate over and over, the algorithm balances its needs of exploration and exploitation while taking into account what it knows about the target function. At each step, a Gaussian Process is fitted to the known samples (points previously explored), and the posterior distribution, combined with an exploration strategy (such as UCB — aka Upper Confidence Bound), or EI (Expected Improvement). This process is used to determine the next point that should be explored (see the gif below).\n",
        "<img src=\"https://github.com/fmfn/BayesianOptimization/raw/master/examples/bayesian_optimization.gif\" />"
      ]
    },
    {
      "cell_type": "markdown",
      "metadata": {
        "id": "RTP8KUlLoYzu"
      },
      "source": [
        "## Let's look at a simple example"
      ]
    },
    {
      "cell_type": "markdown",
      "metadata": {
        "id": "crpPqKdC-KYx"
      },
      "source": [
        "The first step is to create an optimizer. It uses two items:\n",
        "* function to optimize\n",
        "* bounds of parameters\n",
        "\n",
        "The function is the procedure that counts metrics of our model quality. The important thing is that our optimization will maximize the value on function. Smaller metrics are best. Hint: don't forget to use negative metric values."
      ]
    },
    {
      "cell_type": "markdown",
      "metadata": {
        "id": "e09ciF8gpTfr"
      },
      "source": [
        "Here we define our simple function we want to optimize."
      ]
    },
    {
      "cell_type": "code",
      "metadata": {
        "id": "ofwvnfEwo5mG"
      },
      "source": [
        "def simple_func(a, b):\n",
        "    return a + b"
      ],
      "execution_count": 12,
      "outputs": []
    },
    {
      "cell_type": "markdown",
      "metadata": {
        "id": "XCGsdciCpeI3"
      },
      "source": [
        "Now, we define our bounds of the parameters to optimize, within the Bayesian optimizer."
      ]
    },
    {
      "cell_type": "code",
      "metadata": {
        "id": "4jLYW2qnpOFr"
      },
      "source": [
        "optimizer = BayesianOptimization(\n",
        "    simple_func,\n",
        "    {'a': (1, 3),\n",
        "    'b': (4, 7)})"
      ],
      "execution_count": 13,
      "outputs": []
    },
    {
      "cell_type": "markdown",
      "metadata": {
        "id": "dg6LdYx8pq2T"
      },
      "source": [
        "These are the main parameters of this function:\n",
        "\n",
        "* **n_iter:** This is how many steps of Bayesian optimization you want to perform. The more steps, the more likely you are to find a good maximum.\n",
        "\n",
        "* **init_points:** This is how many steps of random exploration you want to perform. Random exploration can help by diversifying the exploration space."
      ]
    },
    {
      "cell_type": "markdown",
      "metadata": {
        "id": "i-GKMJ1uqMYv"
      },
      "source": [
        "Let's run an example where we use the optimizer to find the best values to maximize the target value for a and b given the inputs of 3 and 2."
      ]
    },
    {
      "cell_type": "code",
      "metadata": {
        "id": "Oy44Ro7wqNat",
        "outputId": "f595c8b5-0cca-4083-a4eb-58b598296dc2",
        "colab": {
          "base_uri": "https://localhost:8080/",
          "height": 153
        }
      },
      "source": [
        "optimizer.maximize(3,2)"
      ],
      "execution_count": 14,
      "outputs": [
        {
          "output_type": "stream",
          "text": [
            "|   iter    |  target   |     a     |     b     |\n",
            "-------------------------------------------------\n",
            "| \u001b[0m 1       \u001b[0m | \u001b[0m 6.61    \u001b[0m | \u001b[0m 1.691   \u001b[0m | \u001b[0m 4.919   \u001b[0m |\n",
            "| \u001b[95m 2       \u001b[0m | \u001b[95m 7.463   \u001b[0m | \u001b[95m 1.448   \u001b[0m | \u001b[95m 6.015   \u001b[0m |\n",
            "| \u001b[95m 3       \u001b[0m | \u001b[95m 8.17    \u001b[0m | \u001b[95m 1.783   \u001b[0m | \u001b[95m 6.388   \u001b[0m |\n",
            "| \u001b[95m 4       \u001b[0m | \u001b[95m 10.0    \u001b[0m | \u001b[95m 3.0     \u001b[0m | \u001b[95m 7.0     \u001b[0m |\n",
            "| \u001b[0m 5       \u001b[0m | \u001b[0m 9.317   \u001b[0m | \u001b[0m 3.0     \u001b[0m | \u001b[0m 6.317   \u001b[0m |\n",
            "=================================================\n"
          ],
          "name": "stdout"
        }
      ]
    },
    {
      "cell_type": "markdown",
      "metadata": {
        "id": "tyKFMF2Hq2Sx"
      },
      "source": [
        "Great, now let's print the best parameters and the associated maximized target."
      ]
    },
    {
      "cell_type": "code",
      "metadata": {
        "id": "_H6DixyfscV_",
        "outputId": "bab1b10c-7e65-4e20-a13e-05954072a3f5",
        "colab": {
          "base_uri": "https://localhost:8080/",
          "height": 51
        }
      },
      "source": [
        "print(optimizer.max['params']);optimizer.max['target']"
      ],
      "execution_count": 15,
      "outputs": [
        {
          "output_type": "stream",
          "text": [
            "{'a': 3.0, 'b': 7.0}\n"
          ],
          "name": "stdout"
        },
        {
          "output_type": "execute_result",
          "data": {
            "text/plain": [
              "10.0"
            ]
          },
          "metadata": {
            "tags": []
          },
          "execution_count": 15
        }
      ]
    },
    {
      "cell_type": "markdown",
      "metadata": {
        "id": "tQ1T1V6Mspi4"
      },
      "source": [
        "## Test it on real data using the Light GBM"
      ]
    },
    {
      "cell_type": "markdown",
      "metadata": {
        "id": "y_oGwREZkm4h"
      },
      "source": [
        "The dataset we will be working with is the famous flight departures dataset. Our modeling goal will be to predict if a flight departure is going to be delayed by 15 minutes based on the other attributes in our dataset. As part of this modeling exercise, we will use Bayesian hyperparameter optimization to identify the best parameters for our model."
      ]
    },
    {
      "cell_type": "markdown",
      "metadata": {
        "id": "abYSagjQANDZ"
      },
      "source": [
        "**<font color='teal'> You can load the zipped csv files just as you would regular csv files using Pandas read_csv. In the next cell load the train and test data into two seperate dataframes. </font>**\n"
      ]
    },
    {
      "cell_type": "code",
      "metadata": {
        "id": "EWKBApVuAeJe"
      },
      "source": [
        "train_df = pd.read_csv('flight_delays_train.csv.zip')\n",
        "test_df = pd.read_csv('flight_delays_test.csv.zip')"
      ],
      "execution_count": 16,
      "outputs": []
    },
    {
      "cell_type": "markdown",
      "metadata": {
        "id": "OapNcT9Eikis"
      },
      "source": [
        "**<font color='teal'> Print the top five rows of the train dataframe and review the columns in the data. </font>**"
      ]
    },
    {
      "cell_type": "code",
      "metadata": {
        "id": "__4cXZ8iiYaC",
        "outputId": "8c8f32b9-ffbb-4c9c-a396-5f5e9bf7f397",
        "colab": {
          "base_uri": "https://localhost:8080/",
          "height": 204
        }
      },
      "source": [
        "train_df.head()"
      ],
      "execution_count": 17,
      "outputs": [
        {
          "output_type": "execute_result",
          "data": {
            "text/html": [
              "<div>\n",
              "<style scoped>\n",
              "    .dataframe tbody tr th:only-of-type {\n",
              "        vertical-align: middle;\n",
              "    }\n",
              "\n",
              "    .dataframe tbody tr th {\n",
              "        vertical-align: top;\n",
              "    }\n",
              "\n",
              "    .dataframe thead th {\n",
              "        text-align: right;\n",
              "    }\n",
              "</style>\n",
              "<table border=\"1\" class=\"dataframe\">\n",
              "  <thead>\n",
              "    <tr style=\"text-align: right;\">\n",
              "      <th></th>\n",
              "      <th>Month</th>\n",
              "      <th>DayofMonth</th>\n",
              "      <th>DayOfWeek</th>\n",
              "      <th>DepTime</th>\n",
              "      <th>UniqueCarrier</th>\n",
              "      <th>Origin</th>\n",
              "      <th>Dest</th>\n",
              "      <th>Distance</th>\n",
              "      <th>dep_delayed_15min</th>\n",
              "    </tr>\n",
              "  </thead>\n",
              "  <tbody>\n",
              "    <tr>\n",
              "      <th>0</th>\n",
              "      <td>c-8</td>\n",
              "      <td>c-21</td>\n",
              "      <td>c-7</td>\n",
              "      <td>1934</td>\n",
              "      <td>AA</td>\n",
              "      <td>ATL</td>\n",
              "      <td>DFW</td>\n",
              "      <td>732</td>\n",
              "      <td>N</td>\n",
              "    </tr>\n",
              "    <tr>\n",
              "      <th>1</th>\n",
              "      <td>c-4</td>\n",
              "      <td>c-20</td>\n",
              "      <td>c-3</td>\n",
              "      <td>1548</td>\n",
              "      <td>US</td>\n",
              "      <td>PIT</td>\n",
              "      <td>MCO</td>\n",
              "      <td>834</td>\n",
              "      <td>N</td>\n",
              "    </tr>\n",
              "    <tr>\n",
              "      <th>2</th>\n",
              "      <td>c-9</td>\n",
              "      <td>c-2</td>\n",
              "      <td>c-5</td>\n",
              "      <td>1422</td>\n",
              "      <td>XE</td>\n",
              "      <td>RDU</td>\n",
              "      <td>CLE</td>\n",
              "      <td>416</td>\n",
              "      <td>N</td>\n",
              "    </tr>\n",
              "    <tr>\n",
              "      <th>3</th>\n",
              "      <td>c-11</td>\n",
              "      <td>c-25</td>\n",
              "      <td>c-6</td>\n",
              "      <td>1015</td>\n",
              "      <td>OO</td>\n",
              "      <td>DEN</td>\n",
              "      <td>MEM</td>\n",
              "      <td>872</td>\n",
              "      <td>N</td>\n",
              "    </tr>\n",
              "    <tr>\n",
              "      <th>4</th>\n",
              "      <td>c-10</td>\n",
              "      <td>c-7</td>\n",
              "      <td>c-6</td>\n",
              "      <td>1828</td>\n",
              "      <td>WN</td>\n",
              "      <td>MDW</td>\n",
              "      <td>OMA</td>\n",
              "      <td>423</td>\n",
              "      <td>Y</td>\n",
              "    </tr>\n",
              "  </tbody>\n",
              "</table>\n",
              "</div>"
            ],
            "text/plain": [
              "  Month DayofMonth DayOfWeek  DepTime  ... Origin Dest Distance  dep_delayed_15min\n",
              "0   c-8       c-21       c-7     1934  ...    ATL  DFW      732                  N\n",
              "1   c-4       c-20       c-3     1548  ...    PIT  MCO      834                  N\n",
              "2   c-9        c-2       c-5     1422  ...    RDU  CLE      416                  N\n",
              "3  c-11       c-25       c-6     1015  ...    DEN  MEM      872                  N\n",
              "4  c-10        c-7       c-6     1828  ...    MDW  OMA      423                  Y\n",
              "\n",
              "[5 rows x 9 columns]"
            ]
          },
          "metadata": {
            "tags": []
          },
          "execution_count": 17
        }
      ]
    },
    {
      "cell_type": "markdown",
      "metadata": {
        "id": "UxGBsPQhffgd"
      },
      "source": [
        "**<font color='teal'> Use the describe function to review the numeric columns in the train dataframe. </font>**"
      ]
    },
    {
      "cell_type": "code",
      "metadata": {
        "id": "_bRRKG3DAtae",
        "outputId": "795098b0-3204-4c08-bab9-6239581f5116",
        "colab": {
          "base_uri": "https://localhost:8080/",
          "height": 297
        }
      },
      "source": [
        "train_df.describe()"
      ],
      "execution_count": 18,
      "outputs": [
        {
          "output_type": "execute_result",
          "data": {
            "text/html": [
              "<div>\n",
              "<style scoped>\n",
              "    .dataframe tbody tr th:only-of-type {\n",
              "        vertical-align: middle;\n",
              "    }\n",
              "\n",
              "    .dataframe tbody tr th {\n",
              "        vertical-align: top;\n",
              "    }\n",
              "\n",
              "    .dataframe thead th {\n",
              "        text-align: right;\n",
              "    }\n",
              "</style>\n",
              "<table border=\"1\" class=\"dataframe\">\n",
              "  <thead>\n",
              "    <tr style=\"text-align: right;\">\n",
              "      <th></th>\n",
              "      <th>DepTime</th>\n",
              "      <th>Distance</th>\n",
              "    </tr>\n",
              "  </thead>\n",
              "  <tbody>\n",
              "    <tr>\n",
              "      <th>count</th>\n",
              "      <td>100000.000000</td>\n",
              "      <td>100000.00000</td>\n",
              "    </tr>\n",
              "    <tr>\n",
              "      <th>mean</th>\n",
              "      <td>1341.523880</td>\n",
              "      <td>729.39716</td>\n",
              "    </tr>\n",
              "    <tr>\n",
              "      <th>std</th>\n",
              "      <td>476.378445</td>\n",
              "      <td>574.61686</td>\n",
              "    </tr>\n",
              "    <tr>\n",
              "      <th>min</th>\n",
              "      <td>1.000000</td>\n",
              "      <td>30.00000</td>\n",
              "    </tr>\n",
              "    <tr>\n",
              "      <th>25%</th>\n",
              "      <td>931.000000</td>\n",
              "      <td>317.00000</td>\n",
              "    </tr>\n",
              "    <tr>\n",
              "      <th>50%</th>\n",
              "      <td>1330.000000</td>\n",
              "      <td>575.00000</td>\n",
              "    </tr>\n",
              "    <tr>\n",
              "      <th>75%</th>\n",
              "      <td>1733.000000</td>\n",
              "      <td>957.00000</td>\n",
              "    </tr>\n",
              "    <tr>\n",
              "      <th>max</th>\n",
              "      <td>2534.000000</td>\n",
              "      <td>4962.00000</td>\n",
              "    </tr>\n",
              "  </tbody>\n",
              "</table>\n",
              "</div>"
            ],
            "text/plain": [
              "             DepTime      Distance\n",
              "count  100000.000000  100000.00000\n",
              "mean     1341.523880     729.39716\n",
              "std       476.378445     574.61686\n",
              "min         1.000000      30.00000\n",
              "25%       931.000000     317.00000\n",
              "50%      1330.000000     575.00000\n",
              "75%      1733.000000     957.00000\n",
              "max      2534.000000    4962.00000"
            ]
          },
          "metadata": {
            "tags": []
          },
          "execution_count": 18
        }
      ]
    },
    {
      "cell_type": "markdown",
      "metadata": {
        "id": "i6k-_fI5Aiyh"
      },
      "source": [
        "Notice, `DepTime` is the departure time in a numeric representation in 2400 hours. "
      ]
    },
    {
      "cell_type": "markdown",
      "metadata": {
        "id": "gtZS4-hrlQah"
      },
      "source": [
        " **<font color='teal'>The response variable is 'dep_delayed_15min' which is a categorical column, so we need to map the Y for yes and N for no values to 1 and 0. Run the code in the next cell to do this.</font>**"
      ]
    },
    {
      "cell_type": "code",
      "metadata": {
        "ExecuteTime": {
          "end_time": "2019-04-22T15:38:42.677690Z",
          "start_time": "2019-04-22T15:38:42.481963Z"
        },
        "id": "yRlOTbnW-KYc"
      },
      "source": [
        "train_df = train_df[train_df.DepTime <= 2400].copy()\n",
        "y_train = train_df['dep_delayed_15min'].map({'Y': 1, 'N': 0}).values"
      ],
      "execution_count": 20,
      "outputs": []
    },
    {
      "cell_type": "markdown",
      "metadata": {
        "id": "z3WPkFQO9uo9"
      },
      "source": [
        "## Feature Engineering\n",
        "Use these defined functions to create additional features for the model. Run the cell to add the functions to your workspace."
      ]
    },
    {
      "cell_type": "code",
      "metadata": {
        "id": "cXqsqz5W9t3r"
      },
      "source": [
        "def label_enc(df_column):\n",
        "    df_column = LabelEncoder().fit_transform(df_column)\n",
        "    return df_column\n",
        "\n",
        "def make_harmonic_features_sin(value, period=2400):\n",
        "    value *= 2 * np.pi / period \n",
        "    return np.sin(value)\n",
        "\n",
        "def make_harmonic_features_cos(value, period=2400):\n",
        "    value *= 2 * np.pi / period \n",
        "    return np.cos(value)\n",
        "\n",
        "def feature_eng(df):\n",
        "    df['flight'] = df['Origin']+df['Dest']\n",
        "    df['Month'] = df.Month.map(lambda x: x.split('-')[-1]).astype('int32')\n",
        "    df['DayofMonth'] = df.DayofMonth.map(lambda x: x.split('-')[-1]).astype('uint8')\n",
        "    df['begin_of_month'] = (df['DayofMonth'] < 10).astype('uint8')\n",
        "    df['midddle_of_month'] = ((df['DayofMonth'] >= 10)&(df['DayofMonth'] < 20)).astype('uint8')\n",
        "    df['end_of_month'] = (df['DayofMonth'] >= 20).astype('uint8')\n",
        "    df['DayOfWeek'] = df.DayOfWeek.map(lambda x: x.split('-')[-1]).astype('uint8')\n",
        "    df['hour'] = df.DepTime.map(lambda x: x/100).astype('int32')\n",
        "    df['morning'] = df['hour'].map(lambda x: 1 if (x <= 11)& (x >= 7) else 0).astype('uint8')\n",
        "    df['day'] = df['hour'].map(lambda x: 1 if (x >= 12) & (x <= 18) else 0).astype('uint8')\n",
        "    df['evening'] = df['hour'].map(lambda x: 1 if (x >= 19) & (x <= 23) else 0).astype('uint8')\n",
        "    df['night'] = df['hour'].map(lambda x: 1 if (x >= 0) & (x <= 6) else 0).astype('int32')\n",
        "    df['winter'] = df['Month'].map(lambda x: x in [12, 1, 2]).astype('int32')\n",
        "    df['spring'] = df['Month'].map(lambda x: x in [3, 4, 5]).astype('int32')\n",
        "    df['summer'] = df['Month'].map(lambda x: x in [6, 7, 8]).astype('int32')\n",
        "    df['autumn'] = df['Month'].map(lambda x: x in [9, 10, 11]).astype('int32')\n",
        "    df['holiday'] = (df['DayOfWeek'] >= 5).astype(int) \n",
        "    df['weekday'] = (df['DayOfWeek'] < 5).astype(int)\n",
        "    df['airport_dest_per_month'] = df.groupby(['Dest', 'Month'])['Dest'].transform('count')\n",
        "    df['airport_origin_per_month'] = df.groupby(['Origin', 'Month'])['Origin'].transform('count')\n",
        "    df['airport_dest_count'] = df.groupby(['Dest'])['Dest'].transform('count')\n",
        "    df['airport_origin_count'] = df.groupby(['Origin'])['Origin'].transform('count')\n",
        "    df['carrier_count'] = df.groupby(['UniqueCarrier'])['Dest'].transform('count')\n",
        "    df['carrier_count_per month'] = df.groupby(['UniqueCarrier', 'Month'])['Dest'].transform('count')\n",
        "    df['deptime_cos'] = df['DepTime'].map(make_harmonic_features_cos)\n",
        "    df['deptime_sin'] = df['DepTime'].map(make_harmonic_features_sin)\n",
        "    df['flightUC'] = df['flight']+df['UniqueCarrier']\n",
        "    df['DestUC'] = df['Dest']+df['UniqueCarrier']\n",
        "    df['OriginUC'] = df['Origin']+df['UniqueCarrier']\n",
        "    return df.drop('DepTime', axis=1)"
      ],
      "execution_count": 21,
      "outputs": []
    },
    {
      "cell_type": "markdown",
      "metadata": {
        "id": "-BYbxXpU-FGE"
      },
      "source": [
        "Concatenate the training and testing dataframes.\n"
      ]
    },
    {
      "cell_type": "code",
      "metadata": {
        "id": "Cj6bfSNw_RAf"
      },
      "source": [
        "full_df = pd.concat([train_df.drop('dep_delayed_15min', axis=1), test_df])\n",
        "full_df = feature_eng(full_df)"
      ],
      "execution_count": 22,
      "outputs": []
    },
    {
      "cell_type": "markdown",
      "metadata": {
        "id": "GSO8JbfM_W-F"
      },
      "source": [
        "Apply the earlier defined feature engineering functions to the full dataframe."
      ]
    },
    {
      "cell_type": "code",
      "metadata": {
        "id": "x6RfAINftjwi"
      },
      "source": [
        "for column in ['UniqueCarrier', 'Origin', 'Dest','flight',  'flightUC', 'DestUC', 'OriginUC']:\n",
        "    full_df[column] = label_enc(full_df[column])"
      ],
      "execution_count": 23,
      "outputs": []
    },
    {
      "cell_type": "markdown",
      "metadata": {
        "id": "IJAw1RGB_ZuM"
      },
      "source": [
        "\n",
        "Split the new full dataframe into X_train and X_test. "
      ]
    },
    {
      "cell_type": "code",
      "metadata": {
        "id": "15cPtQU5tjfz"
      },
      "source": [
        "X_train = full_df[:train_df.shape[0]]\n",
        "X_test = full_df[train_df.shape[0]:]"
      ],
      "execution_count": 24,
      "outputs": []
    },
    {
      "cell_type": "markdown",
      "metadata": {
        "id": "umfAw-9JErLV"
      },
      "source": [
        "Create a list of the categorical features."
      ]
    },
    {
      "cell_type": "code",
      "metadata": {
        "ExecuteTime": {
          "end_time": "2019-04-22T14:31:58.412296Z",
          "start_time": "2019-04-22T14:31:58.409088Z"
        },
        "id": "5ibeVyNb-KZI"
      },
      "source": [
        "categorical_features = ['Month',  'DayOfWeek', 'UniqueCarrier', 'Origin', 'Dest','flight',  'flightUC', 'DestUC', 'OriginUC']"
      ],
      "execution_count": 25,
      "outputs": []
    },
    {
      "cell_type": "markdown",
      "metadata": {
        "id": "NzMIsMPIETVk"
      },
      "source": [
        "Let's build a light GBM model to test the bayesian optimizer."
      ]
    },
    {
      "cell_type": "markdown",
      "metadata": {
        "ExecuteTime": {
          "end_time": "2019-04-22T15:18:04.466965Z",
          "start_time": "2019-04-22T15:18:04.457992Z"
        },
        "id": "2hfm1i5G-KZH"
      },
      "source": [
        "### [LightGBM](https://lightgbm.readthedocs.io/en/latest/) is a gradient boosting framework that uses tree-based learning algorithms. It is designed to be distributed and efficient with the following advantages:\n",
        "\n",
        "* Faster training speed and higher efficiency.\n",
        "* Lower memory usage.\n",
        "* Better accuracy.\n",
        "* Support of parallel and GPU learning.\n",
        "* Capable of handling large-scale data."
      ]
    },
    {
      "cell_type": "markdown",
      "metadata": {
        "id": "jf-3F2Wg-KZL"
      },
      "source": [
        "First, we define the function we want to maximize and that will count cross-validation metrics of lightGBM for our parameters.\n",
        "\n",
        "Some params such as num_leaves, max_depth, min_child_samples, min_data_in_leaf should be integers."
      ]
    },
    {
      "cell_type": "code",
      "metadata": {
        "ExecuteTime": {
          "end_time": "2019-04-22T15:40:14.034265Z",
          "start_time": "2019-04-22T15:40:14.027868Z"
        },
        "id": "LyUJBhGX-KZM"
      },
      "source": [
        "def lgb_eval(num_leaves,max_depth,lambda_l2,lambda_l1,min_child_samples, min_data_in_leaf):\n",
        "    params = {\n",
        "        \"objective\" : \"binary\",\n",
        "        \"metric\" : \"auc\", \n",
        "        'is_unbalance': True,\n",
        "        \"num_leaves\" : int(num_leaves),\n",
        "        \"max_depth\" : int(max_depth),\n",
        "        \"lambda_l2\" : lambda_l2,\n",
        "        \"lambda_l1\" : lambda_l1,\n",
        "        \"num_threads\" : 20,\n",
        "        \"min_child_samples\" : int(min_child_samples),\n",
        "        'min_data_in_leaf': int(min_data_in_leaf),\n",
        "        \"learning_rate\" : 0.03,\n",
        "        \"subsample_freq\" : 5,\n",
        "        \"bagging_seed\" : 42,\n",
        "        \"verbosity\" : -1\n",
        "    }\n",
        "    lgtrain = lightgbm.Dataset(X_train, y_train,categorical_feature=categorical_features)\n",
        "    cv_result = lightgbm.cv(params,\n",
        "                       lgtrain,\n",
        "                       1000,\n",
        "                       early_stopping_rounds=100,\n",
        "                       stratified=True,\n",
        "                       nfold=3)\n",
        "    return cv_result['auc-mean'][-1]"
      ],
      "execution_count": 26,
      "outputs": []
    },
    {
      "cell_type": "markdown",
      "metadata": {
        "id": "FJwqBhdeF11Q"
      },
      "source": [
        "Apply the Bayesian optimizer to the function we created in the previous step to identify the best hyperparameters. We will run 10 iterations and set init_points = 2.\n"
      ]
    },
    {
      "cell_type": "code",
      "metadata": {
        "ExecuteTime": {
          "end_time": "2019-04-22T15:48:04.682447Z",
          "start_time": "2019-04-22T15:40:14.641634Z"
        },
        "id": "JheCOkUE-KZP",
        "outputId": "55b9a2b3-c09f-43c5-e142-f6e41b325947",
        "colab": {
          "base_uri": "https://localhost:8080/",
          "height": 630
        }
      },
      "source": [
        "lgbBO = BayesianOptimization(lgb_eval, {'num_leaves': (25, 4000),\n",
        "                                                'max_depth': (5, 63),\n",
        "                                                'lambda_l2': (0.0, 0.05),\n",
        "                                                'lambda_l1': (0.0, 0.05),\n",
        "                                                'min_child_samples': (50, 10000),\n",
        "                                                'min_data_in_leaf': (100, 2000)\n",
        "                                                })\n",
        "\n",
        "lgbBO.maximize(n_iter=10, init_points=2)"
      ],
      "execution_count": 27,
      "outputs": [
        {
          "output_type": "stream",
          "text": [
            "|   iter    |  target   | lambda_l1 | lambda_l2 | max_depth | min_ch... | min_da... | num_le... |\n",
            "-------------------------------------------------------------------------------------------------\n",
            "| \u001b[0m 1       \u001b[0m | \u001b[0m 0.7175  \u001b[0m | \u001b[0m 0.006709\u001b[0m | \u001b[0m 0.00796 \u001b[0m | \u001b[0m 6.746   \u001b[0m | \u001b[0m 6.062e+0\u001b[0m | \u001b[0m 247.2   \u001b[0m | \u001b[0m 1.953e+0\u001b[0m |\n",
            "| \u001b[95m 2       \u001b[0m | \u001b[95m 0.7281  \u001b[0m | \u001b[95m 0.0286  \u001b[0m | \u001b[95m 0.0203  \u001b[0m | \u001b[95m 13.43   \u001b[0m | \u001b[95m 2.552e+0\u001b[0m | \u001b[95m 888.2   \u001b[0m | \u001b[95m 3.094e+0\u001b[0m |\n",
            "| \u001b[95m 3       \u001b[0m | \u001b[95m 0.7351  \u001b[0m | \u001b[95m 0.03663 \u001b[0m | \u001b[95m 0.01962 \u001b[0m | \u001b[95m 54.76   \u001b[0m | \u001b[95m 4.014e+0\u001b[0m | \u001b[95m 1.102e+0\u001b[0m | \u001b[95m 2.418e+0\u001b[0m |\n",
            "| \u001b[95m 4       \u001b[0m | \u001b[95m 0.7447  \u001b[0m | \u001b[95m 0.02067 \u001b[0m | \u001b[95m 0.04214 \u001b[0m | \u001b[95m 29.31   \u001b[0m | \u001b[95m 61.66   \u001b[0m | \u001b[95m 1.77e+03\u001b[0m | \u001b[95m 111.1   \u001b[0m |\n",
            "| \u001b[0m 5       \u001b[0m | \u001b[0m 0.7276  \u001b[0m | \u001b[0m 0.0159  \u001b[0m | \u001b[0m 0.04688 \u001b[0m | \u001b[0m 50.34   \u001b[0m | \u001b[0m 7.777e+0\u001b[0m | \u001b[0m 793.9   \u001b[0m | \u001b[0m 513.8   \u001b[0m |\n",
            "| \u001b[95m 6       \u001b[0m | \u001b[95m 0.745   \u001b[0m | \u001b[95m 0.03884 \u001b[0m | \u001b[95m 0.03908 \u001b[0m | \u001b[95m 40.48   \u001b[0m | \u001b[95m 1.467e+0\u001b[0m | \u001b[95m 1.416e+0\u001b[0m | \u001b[95m 3.176e+0\u001b[0m |\n",
            "| \u001b[0m 7       \u001b[0m | \u001b[0m 0.7446  \u001b[0m | \u001b[0m 0.01066 \u001b[0m | \u001b[0m 0.033   \u001b[0m | \u001b[0m 21.72   \u001b[0m | \u001b[0m 9.911e+0\u001b[0m | \u001b[0m 1.793e+0\u001b[0m | \u001b[0m 3.997e+0\u001b[0m |\n",
            "| \u001b[0m 8       \u001b[0m | \u001b[0m 0.7444  \u001b[0m | \u001b[0m 0.03484 \u001b[0m | \u001b[0m 0.002774\u001b[0m | \u001b[0m 58.75   \u001b[0m | \u001b[0m 86.85   \u001b[0m | \u001b[0m 1.997e+0\u001b[0m | \u001b[0m 3.628e+0\u001b[0m |\n",
            "| \u001b[0m 9       \u001b[0m | \u001b[0m 0.7443  \u001b[0m | \u001b[0m 0.04978 \u001b[0m | \u001b[0m 0.005826\u001b[0m | \u001b[0m 32.98   \u001b[0m | \u001b[0m 9.993e+0\u001b[0m | \u001b[0m 1.926e+0\u001b[0m | \u001b[0m 52.04   \u001b[0m |\n",
            "| \u001b[0m 10      \u001b[0m | \u001b[0m 0.7448  \u001b[0m | \u001b[0m 0.01362 \u001b[0m | \u001b[0m 0.04239 \u001b[0m | \u001b[0m 42.67   \u001b[0m | \u001b[0m 621.1   \u001b[0m | \u001b[0m 1.439e+0\u001b[0m | \u001b[0m 3.285e+0\u001b[0m |\n"
          ],
          "name": "stdout"
        },
        {
          "output_type": "error",
          "ename": "KeyboardInterrupt",
          "evalue": "ignored",
          "traceback": [
            "\u001b[0;31m---------------------------------------------------------------------------\u001b[0m",
            "\u001b[0;31mKeyError\u001b[0m                                  Traceback (most recent call last)",
            "\u001b[0;32m/usr/local/lib/python3.6/dist-packages/bayes_opt/target_space.py\u001b[0m in \u001b[0;36mprobe\u001b[0;34m(self, params)\u001b[0m\n\u001b[1;32m    190\u001b[0m         \u001b[0;32mtry\u001b[0m\u001b[0;34m:\u001b[0m\u001b[0;34m\u001b[0m\u001b[0;34m\u001b[0m\u001b[0m\n\u001b[0;32m--> 191\u001b[0;31m             \u001b[0mtarget\u001b[0m \u001b[0;34m=\u001b[0m \u001b[0mself\u001b[0m\u001b[0;34m.\u001b[0m\u001b[0m_cache\u001b[0m\u001b[0;34m[\u001b[0m\u001b[0m_hashable\u001b[0m\u001b[0;34m(\u001b[0m\u001b[0mx\u001b[0m\u001b[0;34m)\u001b[0m\u001b[0;34m]\u001b[0m\u001b[0;34m\u001b[0m\u001b[0;34m\u001b[0m\u001b[0m\n\u001b[0m\u001b[1;32m    192\u001b[0m         \u001b[0;32mexcept\u001b[0m \u001b[0mKeyError\u001b[0m\u001b[0;34m:\u001b[0m\u001b[0;34m\u001b[0m\u001b[0;34m\u001b[0m\u001b[0m\n",
            "\u001b[0;31mKeyError\u001b[0m: (0.02254165643759696, 0.0037860088464010348, 22.046988477889762, 7454.530347774892, 1988.3797268753449, 2423.158540249855)",
            "\nDuring handling of the above exception, another exception occurred:\n",
            "\u001b[0;31mKeyboardInterrupt\u001b[0m                         Traceback (most recent call last)",
            "\u001b[0;32m<ipython-input-27-ef25b2c07a94>\u001b[0m in \u001b[0;36m<module>\u001b[0;34m()\u001b[0m\n\u001b[1;32m      7\u001b[0m                                                 })\n\u001b[1;32m      8\u001b[0m \u001b[0;34m\u001b[0m\u001b[0m\n\u001b[0;32m----> 9\u001b[0;31m \u001b[0mlgbBO\u001b[0m\u001b[0;34m.\u001b[0m\u001b[0mmaximize\u001b[0m\u001b[0;34m(\u001b[0m\u001b[0mn_iter\u001b[0m\u001b[0;34m=\u001b[0m\u001b[0;36m10\u001b[0m\u001b[0;34m,\u001b[0m \u001b[0minit_points\u001b[0m\u001b[0;34m=\u001b[0m\u001b[0;36m2\u001b[0m\u001b[0;34m)\u001b[0m\u001b[0;34m\u001b[0m\u001b[0;34m\u001b[0m\u001b[0m\n\u001b[0m",
            "\u001b[0;32m/usr/local/lib/python3.6/dist-packages/bayes_opt/bayesian_optimization.py\u001b[0m in \u001b[0;36mmaximize\u001b[0;34m(self, init_points, n_iter, acq, kappa, kappa_decay, kappa_decay_delay, xi, **gp_params)\u001b[0m\n\u001b[1;32m    183\u001b[0m                 \u001b[0miteration\u001b[0m \u001b[0;34m+=\u001b[0m \u001b[0;36m1\u001b[0m\u001b[0;34m\u001b[0m\u001b[0;34m\u001b[0m\u001b[0m\n\u001b[1;32m    184\u001b[0m \u001b[0;34m\u001b[0m\u001b[0m\n\u001b[0;32m--> 185\u001b[0;31m             \u001b[0mself\u001b[0m\u001b[0;34m.\u001b[0m\u001b[0mprobe\u001b[0m\u001b[0;34m(\u001b[0m\u001b[0mx_probe\u001b[0m\u001b[0;34m,\u001b[0m \u001b[0mlazy\u001b[0m\u001b[0;34m=\u001b[0m\u001b[0;32mFalse\u001b[0m\u001b[0;34m)\u001b[0m\u001b[0;34m\u001b[0m\u001b[0;34m\u001b[0m\u001b[0m\n\u001b[0m\u001b[1;32m    186\u001b[0m \u001b[0;34m\u001b[0m\u001b[0m\n\u001b[1;32m    187\u001b[0m             \u001b[0;32mif\u001b[0m \u001b[0mself\u001b[0m\u001b[0;34m.\u001b[0m\u001b[0m_bounds_transformer\u001b[0m\u001b[0;34m:\u001b[0m\u001b[0;34m\u001b[0m\u001b[0;34m\u001b[0m\u001b[0m\n",
            "\u001b[0;32m/usr/local/lib/python3.6/dist-packages/bayes_opt/bayesian_optimization.py\u001b[0m in \u001b[0;36mprobe\u001b[0;34m(self, params, lazy)\u001b[0m\n\u001b[1;32m    114\u001b[0m             \u001b[0mself\u001b[0m\u001b[0;34m.\u001b[0m\u001b[0m_queue\u001b[0m\u001b[0;34m.\u001b[0m\u001b[0madd\u001b[0m\u001b[0;34m(\u001b[0m\u001b[0mparams\u001b[0m\u001b[0;34m)\u001b[0m\u001b[0;34m\u001b[0m\u001b[0;34m\u001b[0m\u001b[0m\n\u001b[1;32m    115\u001b[0m         \u001b[0;32melse\u001b[0m\u001b[0;34m:\u001b[0m\u001b[0;34m\u001b[0m\u001b[0;34m\u001b[0m\u001b[0m\n\u001b[0;32m--> 116\u001b[0;31m             \u001b[0mself\u001b[0m\u001b[0;34m.\u001b[0m\u001b[0m_space\u001b[0m\u001b[0;34m.\u001b[0m\u001b[0mprobe\u001b[0m\u001b[0;34m(\u001b[0m\u001b[0mparams\u001b[0m\u001b[0;34m)\u001b[0m\u001b[0;34m\u001b[0m\u001b[0;34m\u001b[0m\u001b[0m\n\u001b[0m\u001b[1;32m    117\u001b[0m             \u001b[0mself\u001b[0m\u001b[0;34m.\u001b[0m\u001b[0mdispatch\u001b[0m\u001b[0;34m(\u001b[0m\u001b[0mEvents\u001b[0m\u001b[0;34m.\u001b[0m\u001b[0mOPTIMIZATION_STEP\u001b[0m\u001b[0;34m)\u001b[0m\u001b[0;34m\u001b[0m\u001b[0;34m\u001b[0m\u001b[0m\n\u001b[1;32m    118\u001b[0m \u001b[0;34m\u001b[0m\u001b[0m\n",
            "\u001b[0;32m/usr/local/lib/python3.6/dist-packages/bayes_opt/target_space.py\u001b[0m in \u001b[0;36mprobe\u001b[0;34m(self, params)\u001b[0m\n\u001b[1;32m    192\u001b[0m         \u001b[0;32mexcept\u001b[0m \u001b[0mKeyError\u001b[0m\u001b[0;34m:\u001b[0m\u001b[0;34m\u001b[0m\u001b[0;34m\u001b[0m\u001b[0m\n\u001b[1;32m    193\u001b[0m             \u001b[0mparams\u001b[0m \u001b[0;34m=\u001b[0m \u001b[0mdict\u001b[0m\u001b[0;34m(\u001b[0m\u001b[0mzip\u001b[0m\u001b[0;34m(\u001b[0m\u001b[0mself\u001b[0m\u001b[0;34m.\u001b[0m\u001b[0m_keys\u001b[0m\u001b[0;34m,\u001b[0m \u001b[0mx\u001b[0m\u001b[0;34m)\u001b[0m\u001b[0;34m)\u001b[0m\u001b[0;34m\u001b[0m\u001b[0;34m\u001b[0m\u001b[0m\n\u001b[0;32m--> 194\u001b[0;31m             \u001b[0mtarget\u001b[0m \u001b[0;34m=\u001b[0m \u001b[0mself\u001b[0m\u001b[0;34m.\u001b[0m\u001b[0mtarget_func\u001b[0m\u001b[0;34m(\u001b[0m\u001b[0;34m**\u001b[0m\u001b[0mparams\u001b[0m\u001b[0;34m)\u001b[0m\u001b[0;34m\u001b[0m\u001b[0;34m\u001b[0m\u001b[0m\n\u001b[0m\u001b[1;32m    195\u001b[0m             \u001b[0mself\u001b[0m\u001b[0;34m.\u001b[0m\u001b[0mregister\u001b[0m\u001b[0;34m(\u001b[0m\u001b[0mx\u001b[0m\u001b[0;34m,\u001b[0m \u001b[0mtarget\u001b[0m\u001b[0;34m)\u001b[0m\u001b[0;34m\u001b[0m\u001b[0;34m\u001b[0m\u001b[0m\n\u001b[1;32m    196\u001b[0m         \u001b[0;32mreturn\u001b[0m \u001b[0mtarget\u001b[0m\u001b[0;34m\u001b[0m\u001b[0;34m\u001b[0m\u001b[0m\n",
            "\u001b[0;32m<ipython-input-26-0c004eb81b0d>\u001b[0m in \u001b[0;36mlgb_eval\u001b[0;34m(num_leaves, max_depth, lambda_l2, lambda_l1, min_child_samples, min_data_in_leaf)\u001b[0m\n\u001b[1;32m     22\u001b[0m                        \u001b[0mearly_stopping_rounds\u001b[0m\u001b[0;34m=\u001b[0m\u001b[0;36m100\u001b[0m\u001b[0;34m,\u001b[0m\u001b[0;34m\u001b[0m\u001b[0;34m\u001b[0m\u001b[0m\n\u001b[1;32m     23\u001b[0m                        \u001b[0mstratified\u001b[0m\u001b[0;34m=\u001b[0m\u001b[0;32mTrue\u001b[0m\u001b[0;34m,\u001b[0m\u001b[0;34m\u001b[0m\u001b[0;34m\u001b[0m\u001b[0m\n\u001b[0;32m---> 24\u001b[0;31m                        nfold=3)\n\u001b[0m\u001b[1;32m     25\u001b[0m     \u001b[0;32mreturn\u001b[0m \u001b[0mcv_result\u001b[0m\u001b[0;34m[\u001b[0m\u001b[0;34m'auc-mean'\u001b[0m\u001b[0;34m]\u001b[0m\u001b[0;34m[\u001b[0m\u001b[0;34m-\u001b[0m\u001b[0;36m1\u001b[0m\u001b[0;34m]\u001b[0m\u001b[0;34m\u001b[0m\u001b[0;34m\u001b[0m\u001b[0m\n",
            "\u001b[0;32m/usr/local/lib/python3.6/dist-packages/lightgbm/engine.py\u001b[0m in \u001b[0;36mcv\u001b[0;34m(params, train_set, num_boost_round, folds, nfold, stratified, shuffle, metrics, fobj, feval, init_model, feature_name, categorical_feature, early_stopping_rounds, fpreproc, verbose_eval, show_stdv, seed, callbacks)\u001b[0m\n\u001b[1;32m    485\u001b[0m                                     \u001b[0mend_iteration\u001b[0m\u001b[0;34m=\u001b[0m\u001b[0mnum_boost_round\u001b[0m\u001b[0;34m,\u001b[0m\u001b[0;34m\u001b[0m\u001b[0;34m\u001b[0m\u001b[0m\n\u001b[1;32m    486\u001b[0m                                     evaluation_result_list=None))\n\u001b[0;32m--> 487\u001b[0;31m         \u001b[0mcvfolds\u001b[0m\u001b[0;34m.\u001b[0m\u001b[0mupdate\u001b[0m\u001b[0;34m(\u001b[0m\u001b[0mfobj\u001b[0m\u001b[0;34m=\u001b[0m\u001b[0mfobj\u001b[0m\u001b[0;34m)\u001b[0m\u001b[0;34m\u001b[0m\u001b[0;34m\u001b[0m\u001b[0m\n\u001b[0m\u001b[1;32m    488\u001b[0m         \u001b[0mres\u001b[0m \u001b[0;34m=\u001b[0m \u001b[0m_agg_cv_result\u001b[0m\u001b[0;34m(\u001b[0m\u001b[0mcvfolds\u001b[0m\u001b[0;34m.\u001b[0m\u001b[0meval_valid\u001b[0m\u001b[0;34m(\u001b[0m\u001b[0mfeval\u001b[0m\u001b[0;34m)\u001b[0m\u001b[0;34m)\u001b[0m\u001b[0;34m\u001b[0m\u001b[0;34m\u001b[0m\u001b[0m\n\u001b[1;32m    489\u001b[0m         \u001b[0;32mfor\u001b[0m \u001b[0m_\u001b[0m\u001b[0;34m,\u001b[0m \u001b[0mkey\u001b[0m\u001b[0;34m,\u001b[0m \u001b[0mmean\u001b[0m\u001b[0;34m,\u001b[0m \u001b[0m_\u001b[0m\u001b[0;34m,\u001b[0m \u001b[0mstd\u001b[0m \u001b[0;32min\u001b[0m \u001b[0mres\u001b[0m\u001b[0;34m:\u001b[0m\u001b[0;34m\u001b[0m\u001b[0;34m\u001b[0m\u001b[0m\n",
            "\u001b[0;32m/usr/local/lib/python3.6/dist-packages/lightgbm/engine.py\u001b[0m in \u001b[0;36mhandler_function\u001b[0;34m(*args, **kwargs)\u001b[0m\n\u001b[1;32m    261\u001b[0m             \u001b[0mret\u001b[0m \u001b[0;34m=\u001b[0m \u001b[0;34m[\u001b[0m\u001b[0;34m]\u001b[0m\u001b[0;34m\u001b[0m\u001b[0;34m\u001b[0m\u001b[0m\n\u001b[1;32m    262\u001b[0m             \u001b[0;32mfor\u001b[0m \u001b[0mbooster\u001b[0m \u001b[0;32min\u001b[0m \u001b[0mself\u001b[0m\u001b[0;34m.\u001b[0m\u001b[0mboosters\u001b[0m\u001b[0;34m:\u001b[0m\u001b[0;34m\u001b[0m\u001b[0;34m\u001b[0m\u001b[0m\n\u001b[0;32m--> 263\u001b[0;31m                 \u001b[0mret\u001b[0m\u001b[0;34m.\u001b[0m\u001b[0mappend\u001b[0m\u001b[0;34m(\u001b[0m\u001b[0mgetattr\u001b[0m\u001b[0;34m(\u001b[0m\u001b[0mbooster\u001b[0m\u001b[0;34m,\u001b[0m \u001b[0mname\u001b[0m\u001b[0;34m)\u001b[0m\u001b[0;34m(\u001b[0m\u001b[0;34m*\u001b[0m\u001b[0margs\u001b[0m\u001b[0;34m,\u001b[0m \u001b[0;34m**\u001b[0m\u001b[0mkwargs\u001b[0m\u001b[0;34m)\u001b[0m\u001b[0;34m)\u001b[0m\u001b[0;34m\u001b[0m\u001b[0;34m\u001b[0m\u001b[0m\n\u001b[0m\u001b[1;32m    264\u001b[0m             \u001b[0;32mreturn\u001b[0m \u001b[0mret\u001b[0m\u001b[0;34m\u001b[0m\u001b[0;34m\u001b[0m\u001b[0m\n\u001b[1;32m    265\u001b[0m         \u001b[0;32mreturn\u001b[0m \u001b[0mhandler_function\u001b[0m\u001b[0;34m\u001b[0m\u001b[0;34m\u001b[0m\u001b[0m\n",
            "\u001b[0;32m/usr/local/lib/python3.6/dist-packages/lightgbm/basic.py\u001b[0m in \u001b[0;36mupdate\u001b[0;34m(self, train_set, fobj)\u001b[0m\n\u001b[1;32m   1800\u001b[0m             _safe_call(_LIB.LGBM_BoosterUpdateOneIter(\n\u001b[1;32m   1801\u001b[0m                 \u001b[0mself\u001b[0m\u001b[0;34m.\u001b[0m\u001b[0mhandle\u001b[0m\u001b[0;34m,\u001b[0m\u001b[0;34m\u001b[0m\u001b[0;34m\u001b[0m\u001b[0m\n\u001b[0;32m-> 1802\u001b[0;31m                 ctypes.byref(is_finished)))\n\u001b[0m\u001b[1;32m   1803\u001b[0m             \u001b[0mself\u001b[0m\u001b[0;34m.\u001b[0m\u001b[0m__is_predicted_cur_iter\u001b[0m \u001b[0;34m=\u001b[0m \u001b[0;34m[\u001b[0m\u001b[0;32mFalse\u001b[0m \u001b[0;32mfor\u001b[0m \u001b[0m_\u001b[0m \u001b[0;32min\u001b[0m \u001b[0mrange_\u001b[0m\u001b[0;34m(\u001b[0m\u001b[0mself\u001b[0m\u001b[0;34m.\u001b[0m\u001b[0m__num_dataset\u001b[0m\u001b[0;34m)\u001b[0m\u001b[0;34m]\u001b[0m\u001b[0;34m\u001b[0m\u001b[0;34m\u001b[0m\u001b[0m\n\u001b[1;32m   1804\u001b[0m             \u001b[0;32mreturn\u001b[0m \u001b[0mis_finished\u001b[0m\u001b[0;34m.\u001b[0m\u001b[0mvalue\u001b[0m \u001b[0;34m==\u001b[0m \u001b[0;36m1\u001b[0m\u001b[0;34m\u001b[0m\u001b[0;34m\u001b[0m\u001b[0m\n",
            "\u001b[0;31mKeyboardInterrupt\u001b[0m: "
          ]
        }
      ]
    },
    {
      "cell_type": "markdown",
      "metadata": {
        "id": "rdkxhhST-KZS"
      },
      "source": [
        " **<font color='teal'> Print the best result by using the '.max' function.</font>**"
      ]
    },
    {
      "cell_type": "code",
      "metadata": {
        "ExecuteTime": {
          "end_time": "2019-04-22T15:49:01.513767Z",
          "start_time": "2019-04-22T15:49:01.509392Z"
        },
        "id": "oc8z6mfy-KZS",
        "outputId": "a6d896f1-d845-4691-a1d7-f5c1b6687793",
        "colab": {
          "base_uri": "https://localhost:8080/",
          "height": 136
        }
      },
      "source": [
        "lgbBO.max"
      ],
      "execution_count": 28,
      "outputs": [
        {
          "output_type": "execute_result",
          "data": {
            "text/plain": [
              "{'params': {'lambda_l1': 0.0388380908625791,\n",
              "  'lambda_l2': 0.039076205596261834,\n",
              "  'max_depth': 40.47617287115405,\n",
              "  'min_child_samples': 1467.2663287161554,\n",
              "  'min_data_in_leaf': 1415.6957641829626,\n",
              "  'num_leaves': 3175.675074829845},\n",
              " 'target': 0.7449663339343938}"
            ]
          },
          "metadata": {
            "tags": []
          },
          "execution_count": 28
        }
      ]
    },
    {
      "cell_type": "markdown",
      "metadata": {
        "ExecuteTime": {
          "end_time": "2019-04-22T15:50:29.049881Z",
          "start_time": "2019-04-22T15:50:29.045908Z"
        },
        "id": "J5LAydKC-KZW"
      },
      "source": [
        "Review the process at each step by using the '.res[0]' function."
      ]
    },
    {
      "cell_type": "code",
      "metadata": {
        "ExecuteTime": {
          "end_time": "2019-04-22T15:51:01.001688Z",
          "start_time": "2019-04-22T15:51:00.997484Z"
        },
        "id": "X1ttZmrI-KZX",
        "outputId": "c73a27fa-32fd-4e99-d78b-9f2f45b5efc4",
        "colab": {
          "base_uri": "https://localhost:8080/",
          "height": 136
        }
      },
      "source": [
        "lgbBO.res[0]"
      ],
      "execution_count": 29,
      "outputs": [
        {
          "output_type": "execute_result",
          "data": {
            "text/plain": [
              "{'params': {'lambda_l1': 0.0067089309431253635,\n",
              "  'lambda_l2': 0.007959911196332404,\n",
              "  'max_depth': 6.74562662050662,\n",
              "  'min_child_samples': 6062.114009614722,\n",
              "  'min_data_in_leaf': 247.23511662092977,\n",
              "  'num_leaves': 1953.2755310303503},\n",
              " 'target': 0.7174926284720106}"
            ]
          },
          "metadata": {
            "tags": []
          },
          "execution_count": 29
        }
      ]
    }
  ]
}